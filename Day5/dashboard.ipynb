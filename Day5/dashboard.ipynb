{
 "cells": [
  {
   "cell_type": "code",
   "execution_count": 0,
   "metadata": {
    "application/vnd.databricks.v1+cell": {
     "cellMetadata": {
      "byteLimit": 2048000,
      "rowLimit": 10000
     },
     "inputWidgets": {},
     "nuid": "8112d86d-f2d5-47e7-821b-e21b547db262",
     "showTitle": false,
     "tableResultSettingsMap": {},
     "title": ""
    }
   },
   "outputs": [
    {
     "output_type": "display_data",
     "data": {
      "text/html": [
       "<style scoped>\n",
       "  .table-result-container {\n",
       "    max-height: 300px;\n",
       "    overflow: auto;\n",
       "  }\n",
       "  table, th, td {\n",
       "    border: 1px solid black;\n",
       "    border-collapse: collapse;\n",
       "  }\n",
       "  th, td {\n",
       "    padding: 5px;\n",
       "  }\n",
       "  th {\n",
       "    text-align: left;\n",
       "  }\n",
       "</style><div class='table-result-container'><table class='table-result'><thead style='background-color: white'><tr><th>Employee ID</th><th>Store ID</th><th>Name</th><th>Position</th></tr></thead><tbody><tr><td>1</td><td>1</td><td>Stephen Johnson</td><td>Store Manager</td></tr><tr><td>2</td><td>1</td><td>Rebecca Myers</td><td>Assistant Manager</td></tr><tr><td>3</td><td>1</td><td>Katherine Buchanan</td><td>Cashier</td></tr><tr><td>4</td><td>1</td><td>Jessica Hicks</td><td>Stock Clerk</td></tr><tr><td>5</td><td>1</td><td>Ryan Gross</td><td>Sales Associate</td></tr><tr><td>6</td><td>1</td><td>Jeffery Carlson</td><td>Sales Associate</td></tr><tr><td>7</td><td>1</td><td>Melissa Wilson</td><td>Sales Associate</td></tr><tr><td>8</td><td>1</td><td>Edward Hicks</td><td>Sales Associate</td></tr><tr><td>9</td><td>1</td><td>Shari Jordan</td><td>Sales Associate</td></tr><tr><td>10</td><td>1</td><td>Mrs. Melissa Caldwell DDS</td><td>Sales Associate</td></tr><tr><td>11</td><td>1</td><td>Regina Nelson</td><td>Sales Associate</td></tr><tr><td>12</td><td>1</td><td>Kevin Dawson</td><td>Sales Associate</td></tr><tr><td>13</td><td>1</td><td>Nicole Murphy</td><td>Sales Associate</td></tr><tr><td>14</td><td>2</td><td>Susan Brown</td><td>Store Manager</td></tr><tr><td>15</td><td>2</td><td>Sean Miller</td><td>Assistant Manager</td></tr><tr><td>16</td><td>2</td><td>Christopher Dominguez</td><td>Cashier</td></tr><tr><td>17</td><td>2</td><td>Lisa Mason</td><td>Stock Clerk</td></tr><tr><td>18</td><td>2</td><td>David Pitts</td><td>Sales Associate</td></tr><tr><td>19</td><td>2</td><td>Lance Schultz</td><td>Sales Associate</td></tr><tr><td>20</td><td>2</td><td>Caroline Hall</td><td>Sales Associate</td></tr><tr><td>21</td><td>2</td><td>Heather Wilson</td><td>Sales Associate</td></tr><tr><td>22</td><td>2</td><td>Allison Young</td><td>Sales Associate</td></tr><tr><td>23</td><td>2</td><td>Kathleen Thomas</td><td>Sales Associate</td></tr><tr><td>24</td><td>2</td><td>Carl Walters</td><td>Sales Associate</td></tr><tr><td>25</td><td>3</td><td>Kevin Douglas</td><td>Store Manager</td></tr><tr><td>26</td><td>3</td><td>Stephanie Larson</td><td>Assistant Manager</td></tr><tr><td>27</td><td>3</td><td>Andrew Thompson</td><td>Cashier</td></tr><tr><td>28</td><td>3</td><td>Erica Davis</td><td>Stock Clerk</td></tr><tr><td>29</td><td>3</td><td>Cynthia Serrano</td><td>Sales Associate</td></tr><tr><td>30</td><td>3</td><td>Brittany Gonzalez</td><td>Sales Associate</td></tr><tr><td>31</td><td>3</td><td>Patrick Simmons</td><td>Sales Associate</td></tr><tr><td>32</td><td>3</td><td>Jennifer Johnson</td><td>Sales Associate</td></tr><tr><td>33</td><td>3</td><td>Lynn Torres</td><td>Sales Associate</td></tr><tr><td>34</td><td>3</td><td>Adam Long</td><td>Sales Associate</td></tr><tr><td>35</td><td>3</td><td>Christopher Willis</td><td>Sales Associate</td></tr><tr><td>36</td><td>3</td><td>Zachary Leonard</td><td>Sales Associate</td></tr><tr><td>37</td><td>4</td><td>Justin Johnson</td><td>Store Manager</td></tr><tr><td>38</td><td>4</td><td>Michael Lewis</td><td>Assistant Manager</td></tr><tr><td>39</td><td>4</td><td>Kevin Chapman</td><td>Cashier</td></tr><tr><td>40</td><td>4</td><td>Christopher Garrett</td><td>Stock Clerk</td></tr><tr><td>41</td><td>4</td><td>Jonathan Cooley</td><td>Sales Associate</td></tr><tr><td>42</td><td>4</td><td>Christine Garner</td><td>Sales Associate</td></tr><tr><td>43</td><td>4</td><td>Joshua Sharp</td><td>Sales Associate</td></tr><tr><td>44</td><td>4</td><td>Laura Whitehead</td><td>Sales Associate</td></tr><tr><td>45</td><td>4</td><td>Jeremy Wolfe</td><td>Sales Associate</td></tr><tr><td>46</td><td>4</td><td>Denise Harmon</td><td>Sales Associate</td></tr><tr><td>47</td><td>4</td><td>Allen Fischer</td><td>Sales Associate</td></tr><tr><td>48</td><td>4</td><td>Robert Price</td><td>Sales Associate</td></tr><tr><td>49</td><td>4</td><td>Victoria Parker</td><td>Sales Associate</td></tr><tr><td>50</td><td>5</td><td>Brandon Allen</td><td>Store Manager</td></tr><tr><td>51</td><td>5</td><td>Matthew Klein</td><td>Assistant Manager</td></tr><tr><td>52</td><td>5</td><td>Richard Miller</td><td>Cashier</td></tr><tr><td>53</td><td>5</td><td>Teresa Wise</td><td>Stock Clerk</td></tr><tr><td>54</td><td>5</td><td>Ronald Shannon</td><td>Sales Associate</td></tr><tr><td>55</td><td>5</td><td>Kayla Hernandez</td><td>Sales Associate</td></tr><tr><td>56</td><td>5</td><td>Ariel Morse</td><td>Sales Associate</td></tr><tr><td>57</td><td>5</td><td>Kevin Stevens</td><td>Sales Associate</td></tr><tr><td>58</td><td>5</td><td>Austin Bonilla</td><td>Sales Associate</td></tr><tr><td>59</td><td>5</td><td>Larry Gutierrez</td><td>Sales Associate</td></tr><tr><td>60</td><td>5</td><td>John Garza</td><td>Sales Associate</td></tr><tr><td>61</td><td>5</td><td>Ruth Smith</td><td>Sales Associate</td></tr><tr><td>62</td><td>6</td><td>张婷</td><td>Store Manager</td></tr><tr><td>63</td><td>6</td><td>唐宇</td><td>Assistant Manager</td></tr><tr><td>64</td><td>6</td><td>谢芳</td><td>Cashier</td></tr><tr><td>65</td><td>6</td><td>王坤</td><td>Stock Clerk</td></tr><tr><td>66</td><td>6</td><td>莫凤英</td><td>Sales Associate</td></tr><tr><td>67</td><td>6</td><td>农健</td><td>Sales Associate</td></tr><tr><td>68</td><td>6</td><td>罗彬</td><td>Sales Associate</td></tr><tr><td>69</td><td>6</td><td>梁欣</td><td>Sales Associate</td></tr><tr><td>70</td><td>6</td><td>蒋坤</td><td>Sales Associate</td></tr><tr><td>71</td><td>6</td><td>李淑英</td><td>Sales Associate</td></tr><tr><td>72</td><td>6</td><td>黄想</td><td>Sales Associate</td></tr><tr><td>73</td><td>7</td><td>李瑜</td><td>Store Manager</td></tr><tr><td>74</td><td>7</td><td>陈帅</td><td>Assistant Manager</td></tr><tr><td>75</td><td>7</td><td>欧玉</td><td>Cashier</td></tr><tr><td>76</td><td>7</td><td>林涛</td><td>Stock Clerk</td></tr><tr><td>77</td><td>7</td><td>孔桂香</td><td>Sales Associate</td></tr><tr><td>78</td><td>7</td><td>杨琳</td><td>Sales Associate</td></tr><tr><td>79</td><td>7</td><td>黄华</td><td>Sales Associate</td></tr><tr><td>80</td><td>7</td><td>何兰英</td><td>Sales Associate</td></tr><tr><td>81</td><td>7</td><td>张杰</td><td>Sales Associate</td></tr><tr><td>82</td><td>7</td><td>应小红</td><td>Sales Associate</td></tr><tr><td>83</td><td>7</td><td>林淑英</td><td>Sales Associate</td></tr><tr><td>84</td><td>7</td><td>唐旭</td><td>Sales Associate</td></tr><tr><td>85</td><td>7</td><td>刘宁</td><td>Sales Associate</td></tr><tr><td>86</td><td>8</td><td>邱桂珍</td><td>Store Manager</td></tr><tr><td>87</td><td>8</td><td>夏红霞</td><td>Assistant Manager</td></tr><tr><td>88</td><td>8</td><td>胡秀云</td><td>Cashier</td></tr><tr><td>89</td><td>8</td><td>刘建</td><td>Stock Clerk</td></tr><tr><td>90</td><td>8</td><td>胡秀云</td><td>Sales Associate</td></tr><tr><td>91</td><td>8</td><td>周秀兰</td><td>Sales Associate</td></tr><tr><td>92</td><td>8</td><td>汤建华</td><td>Sales Associate</td></tr><tr><td>93</td><td>8</td><td>夏艳</td><td>Sales Associate</td></tr><tr><td>94</td><td>8</td><td>杨凤英</td><td>Sales Associate</td></tr><tr><td>95</td><td>8</td><td>李建国</td><td>Sales Associate</td></tr><tr><td>96</td><td>8</td><td>李玉兰</td><td>Sales Associate</td></tr><tr><td>97</td><td>8</td><td>郑琳</td><td>Sales Associate</td></tr><tr><td>98</td><td>8</td><td>郭海燕</td><td>Sales Associate</td></tr><tr><td>99</td><td>9</td><td>王晨</td><td>Store Manager</td></tr><tr><td>100</td><td>9</td><td>石春梅</td><td>Assistant Manager</td></tr><tr><td>101</td><td>9</td><td>李帅</td><td>Cashier</td></tr><tr><td>102</td><td>9</td><td>史荣</td><td>Stock Clerk</td></tr><tr><td>103</td><td>9</td><td>陈淑英</td><td>Sales Associate</td></tr><tr><td>104</td><td>9</td><td>刘宁</td><td>Sales Associate</td></tr><tr><td>105</td><td>9</td><td>许冬梅</td><td>Sales Associate</td></tr><tr><td>106</td><td>9</td><td>胡婷</td><td>Sales Associate</td></tr><tr><td>107</td><td>9</td><td>易玉</td><td>Sales Associate</td></tr><tr><td>108</td><td>9</td><td>林玉</td><td>Sales Associate</td></tr><tr><td>109</td><td>9</td><td>詹淑华</td><td>Sales Associate</td></tr><tr><td>110</td><td>9</td><td>岳金凤</td><td>Sales Associate</td></tr><tr><td>111</td><td>10</td><td>苏萍</td><td>Store Manager</td></tr><tr><td>112</td><td>10</td><td>吴建平</td><td>Assistant Manager</td></tr><tr><td>113</td><td>10</td><td>余建华</td><td>Cashier</td></tr><tr><td>114</td><td>10</td><td>冷成</td><td>Stock Clerk</td></tr><tr><td>115</td><td>10</td><td>梁秀云</td><td>Sales Associate</td></tr><tr><td>116</td><td>10</td><td>李玲</td><td>Sales Associate</td></tr><tr><td>117</td><td>10</td><td>王柳</td><td>Sales Associate</td></tr><tr><td>118</td><td>10</td><td>贾淑英</td><td>Sales Associate</td></tr><tr><td>119</td><td>10</td><td>查帅</td><td>Sales Associate</td></tr><tr><td>120</td><td>10</td><td>刘宁</td><td>Sales Associate</td></tr><tr><td>121</td><td>10</td><td>刘阳</td><td>Sales Associate</td></tr><tr><td>122</td><td>10</td><td>王建平</td><td>Sales Associate</td></tr><tr><td>123</td><td>10</td><td>童淑英</td><td>Sales Associate</td></tr><tr><td>124</td><td>11</td><td>Hansjoachim Nette-Bolnbach</td><td>Store Manager</td></tr><tr><td>125</td><td>11</td><td>Drago Hornig</td><td>Assistant Manager</td></tr><tr><td>126</td><td>11</td><td>Janusz Schmiedecke B.Sc.</td><td>Cashier</td></tr><tr><td>127</td><td>11</td><td>Dr. Gilbert Trommler B.A.</td><td>Stock Clerk</td></tr><tr><td>128</td><td>11</td><td>Desiree Warmer-Wähner</td><td>Sales Associate</td></tr><tr><td>129</td><td>11</td><td>Reingard Jacobi Jäckel</td><td>Sales Associate</td></tr><tr><td>130</td><td>11</td><td>Univ.Prof. Ditmar Scheuermann B.Eng.</td><td>Sales Associate</td></tr><tr><td>131</td><td>11</td><td>Frieda Geisler</td><td>Sales Associate</td></tr><tr><td>132</td><td>11</td><td>Herr Hellmut Kraus</td><td>Sales Associate</td></tr><tr><td>133</td><td>11</td><td>Hannes Biggen</td><td>Sales Associate</td></tr><tr><td>134</td><td>11</td><td>Meinhard Linke</td><td>Sales Associate</td></tr><tr><td>135</td><td>11</td><td>Isabelle Hauffer</td><td>Sales Associate</td></tr><tr><td>136</td><td>12</td><td>Sibel Siering-Ullmann</td><td>Store Manager</td></tr><tr><td>137</td><td>12</td><td>Frau Annelise Blümel</td><td>Assistant Manager</td></tr><tr><td>138</td><td>12</td><td>Dr. Tim Henschel</td><td>Cashier</td></tr><tr><td>139</td><td>12</td><td>Gerta Blümel</td><td>Stock Clerk</td></tr><tr><td>140</td><td>12</td><td>Dr. Diane Oestrovsky</td><td>Sales Associate</td></tr><tr><td>141</td><td>12</td><td>Wanda Stumpf</td><td>Sales Associate</td></tr><tr><td>142</td><td>12</td><td>Dagmar Dehmel-Kusch</td><td>Sales Associate</td></tr><tr><td>143</td><td>12</td><td>Harold Preiß</td><td>Sales Associate</td></tr><tr><td>144</td><td>12</td><td>Heike Römer</td><td>Sales Associate</td></tr><tr><td>145</td><td>12</td><td>Elisa Junck B.Sc.</td><td>Sales Associate</td></tr><tr><td>146</td><td>12</td><td>Dr. Anita Seifert MBA.</td><td>Sales Associate</td></tr><tr><td>147</td><td>12</td><td>Pero Birnbaum B.A.</td><td>Sales Associate</td></tr><tr><td>148</td><td>12</td><td>Ellen Etzler</td><td>Sales Associate</td></tr><tr><td>149</td><td>13</td><td>Claas Kruschwitz-Wilms</td><td>Store Manager</td></tr><tr><td>150</td><td>13</td><td>Selma Jessel</td><td>Assistant Manager</td></tr><tr><td>151</td><td>13</td><td>Dr. Ekrem Trub</td><td>Cashier</td></tr><tr><td>152</td><td>13</td><td>Denny Häring</td><td>Stock Clerk</td></tr><tr><td>153</td><td>13</td><td>Valeri Gute</td><td>Sales Associate</td></tr><tr><td>154</td><td>13</td><td>Gunnar Kambs</td><td>Sales Associate</td></tr><tr><td>155</td><td>13</td><td>Stjepan Adler B.Eng.</td><td>Sales Associate</td></tr><tr><td>156</td><td>13</td><td>Univ.Prof. Reinald Becker MBA.</td><td>Sales Associate</td></tr><tr><td>157</td><td>13</td><td>Inka Etzold B.A.</td><td>Sales Associate</td></tr><tr><td>158</td><td>13</td><td>Gülten Sauer B.Eng.</td><td>Sales Associate</td></tr><tr><td>159</td><td>13</td><td>Rosina Albers</td><td>Sales Associate</td></tr><tr><td>160</td><td>13</td><td>Kathleen Kobelt B.A.</td><td>Sales Associate</td></tr><tr><td>161</td><td>14</td><td>Jaroslaw Gute-Schäfer</td><td>Store Manager</td></tr><tr><td>162</td><td>14</td><td>Dr. Janus Hellwig MBA.</td><td>Assistant Manager</td></tr><tr><td>163</td><td>14</td><td>Hanne Zimmer-Blümel</td><td>Cashier</td></tr><tr><td>164</td><td>14</td><td>Ann-Kathrin Lindner-Preiß</td><td>Stock Clerk</td></tr><tr><td>165</td><td>14</td><td>Dipl.-Ing. Andree Lindau B.A.</td><td>Sales Associate</td></tr><tr><td>166</td><td>14</td><td>Tatjana Rudolph</td><td>Sales Associate</td></tr><tr><td>167</td><td>14</td><td>Jenny Ritter</td><td>Sales Associate</td></tr><tr><td>168</td><td>14</td><td>Maya Mangold B.Sc.</td><td>Sales Associate</td></tr><tr><td>169</td><td>14</td><td>Bärbel Reising B.A.</td><td>Sales Associate</td></tr><tr><td>170</td><td>14</td><td>Ing. Eckehard Stahr</td><td>Sales Associate</td></tr><tr><td>171</td><td>14</td><td>Prof. Tilo Zirme B.A.</td><td>Sales Associate</td></tr><tr><td>172</td><td>15</td><td>Hubertine Sager-Hamann</td><td>Store Manager</td></tr><tr><td>173</td><td>15</td><td>Prof. Kata Lübs B.Sc.</td><td>Assistant Manager</td></tr><tr><td>174</td><td>15</td><td>Vinko Weinhage</td><td>Cashier</td></tr><tr><td>175</td><td>15</td><td>Univ.Prof. Samira Hamann B.Eng.</td><td>Stock Clerk</td></tr><tr><td>176</td><td>15</td><td>Baptist Girschner</td><td>Sales Associate</td></tr><tr><td>177</td><td>15</td><td>Aloisia Schlosser B.A.</td><td>Sales Associate</td></tr><tr><td>178</td><td>15</td><td>Univ.Prof. Hans-Theo Möchlichen</td><td>Sales Associate</td></tr><tr><td>179</td><td>15</td><td>Albin Henck MBA.</td><td>Sales Associate</td></tr><tr><td>180</td><td>15</td><td>Dr. Friedrich-Wilhelm Linke MBA.</td><td>Sales Associate</td></tr><tr><td>181</td><td>15</td><td>Rosl Budig</td><td>Sales Associate</td></tr><tr><td>182</td><td>15</td><td>Miguel Junk</td><td>Sales Associate</td></tr><tr><td>183</td><td>15</td><td>Jonas Rosemann</td><td>Sales Associate</td></tr><tr><td>184</td><td>15</td><td>Helmut Paffrath</td><td>Sales Associate</td></tr><tr><td>185</td><td>16</td><td>Jeff Wiggins</td><td>Store Manager</td></tr><tr><td>186</td><td>16</td><td>Nancy Butler</td><td>Assistant Manager</td></tr><tr><td>187</td><td>16</td><td>Kevin Fields</td><td>Cashier</td></tr><tr><td>188</td><td>16</td><td>Jared Daniels</td><td>Stock Clerk</td></tr><tr><td>189</td><td>16</td><td>Angela Chapman</td><td>Sales Associate</td></tr><tr><td>190</td><td>16</td><td>Annette Morgan</td><td>Sales Associate</td></tr><tr><td>191</td><td>16</td><td>Christina Mccarthy</td><td>Sales Associate</td></tr><tr><td>192</td><td>16</td><td>Kristina Mitchell</td><td>Sales Associate</td></tr><tr><td>193</td><td>16</td><td>Sylvia Austin</td><td>Sales Associate</td></tr><tr><td>194</td><td>16</td><td>Brent Oneill</td><td>Sales Associate</td></tr><tr><td>195</td><td>17</td><td>Robert Oliver</td><td>Store Manager</td></tr><tr><td>196</td><td>17</td><td>Joshua Hansen</td><td>Assistant Manager</td></tr><tr><td>197</td><td>17</td><td>Richard Parks</td><td>Cashier</td></tr><tr><td>198</td><td>17</td><td>Kenneth Dunn</td><td>Stock Clerk</td></tr><tr><td>199</td><td>17</td><td>Jonathan Ryan</td><td>Sales Associate</td></tr><tr><td>200</td><td>17</td><td>Mary Lee</td><td>Sales Associate</td></tr><tr><td>201</td><td>17</td><td>Adam Lopez</td><td>Sales Associate</td></tr><tr><td>202</td><td>17</td><td>Laura Bradley</td><td>Sales Associate</td></tr><tr><td>203</td><td>17</td><td>Laura Baldwin</td><td>Sales Associate</td></tr><tr><td>204</td><td>17</td><td>Karla Rasmussen</td><td>Sales Associate</td></tr><tr><td>205</td><td>17</td><td>Michael Valenzuela</td><td>Sales Associate</td></tr><tr><td>206</td><td>17</td><td>Paul Kemp</td><td>Sales Associate</td></tr><tr><td>207</td><td>18</td><td>Cindy Anderson</td><td>Store Manager</td></tr><tr><td>208</td><td>18</td><td>John Foley</td><td>Assistant Manager</td></tr><tr><td>209</td><td>18</td><td>Anthony Sanders</td><td>Cashier</td></tr><tr><td>210</td><td>18</td><td>Keith Small</td><td>Stock Clerk</td></tr><tr><td>211</td><td>18</td><td>Lisa Jimenez</td><td>Sales Associate</td></tr><tr><td>212</td><td>18</td><td>Allison Taylor</td><td>Sales Associate</td></tr><tr><td>213</td><td>18</td><td>Jonathan Hill</td><td>Sales Associate</td></tr><tr><td>214</td><td>18</td><td>Christina Cisneros</td><td>Sales Associate</td></tr><tr><td>215</td><td>18</td><td>Sarah Moreno</td><td>Sales Associate</td></tr><tr><td>216</td><td>18</td><td>Jake Moore</td><td>Sales Associate</td></tr><tr><td>217</td><td>19</td><td>Wesley Hardin</td><td>Store Manager</td></tr><tr><td>218</td><td>19</td><td>John Ray</td><td>Assistant Manager</td></tr><tr><td>219</td><td>19</td><td>Kyle Black</td><td>Cashier</td></tr><tr><td>220</td><td>19</td><td>Kelly Day</td><td>Stock Clerk</td></tr><tr><td>221</td><td>19</td><td>Brenda Williams</td><td>Sales Associate</td></tr><tr><td>222</td><td>19</td><td>Michael Gardner</td><td>Sales Associate</td></tr><tr><td>223</td><td>19</td><td>Bob Hoffman</td><td>Sales Associate</td></tr><tr><td>224</td><td>19</td><td>Nicole Rice</td><td>Sales Associate</td></tr><tr><td>225</td><td>19</td><td>Maria Hunter</td><td>Sales Associate</td></tr><tr><td>226</td><td>19</td><td>David Hartman</td><td>Sales Associate</td></tr><tr><td>227</td><td>19</td><td>Cheyenne Mann</td><td>Sales Associate</td></tr><tr><td>228</td><td>19</td><td>Monica Moran</td><td>Sales Associate</td></tr><tr><td>229</td><td>20</td><td>John Greene</td><td>Store Manager</td></tr><tr><td>230</td><td>20</td><td>Carol Cox</td><td>Assistant Manager</td></tr><tr><td>231</td><td>20</td><td>John Bailey</td><td>Cashier</td></tr><tr><td>232</td><td>20</td><td>Donald Griffin</td><td>Stock Clerk</td></tr><tr><td>233</td><td>20</td><td>Michael Clayton</td><td>Sales Associate</td></tr><tr><td>234</td><td>20</td><td>Austin Baker</td><td>Sales Associate</td></tr><tr><td>235</td><td>20</td><td>Alexander Baker MD</td><td>Sales Associate</td></tr><tr><td>236</td><td>20</td><td>Briana Moss</td><td>Sales Associate</td></tr><tr><td>237</td><td>20</td><td>Sergio Hoover</td><td>Sales Associate</td></tr><tr><td>238</td><td>20</td><td>Angela Turner</td><td>Sales Associate</td></tr><tr><td>239</td><td>21</td><td>Alexandria Ribeiro</td><td>Store Manager</td></tr><tr><td>240</td><td>21</td><td>Lucy Lebon de Grenier</td><td>Assistant Manager</td></tr><tr><td>241</td><td>21</td><td>Henriette Pierre</td><td>Cashier</td></tr><tr><td>242</td><td>21</td><td>Patrick Bonnin de Rodrigues</td><td>Stock Clerk</td></tr><tr><td>243</td><td>21</td><td>David Sauvage</td><td>Sales Associate</td></tr><tr><td>244</td><td>21</td><td>Philippe Ferrand-Nguyen</td><td>Sales Associate</td></tr><tr><td>245</td><td>21</td><td>Virginie Sanchez</td><td>Sales Associate</td></tr><tr><td>246</td><td>21</td><td>Robert Noël</td><td>Sales Associate</td></tr><tr><td>247</td><td>21</td><td>Matthieu Normand</td><td>Sales Associate</td></tr><tr><td>248</td><td>21</td><td>Bernard Bertrand</td><td>Sales Associate</td></tr><tr><td>249</td><td>22</td><td>Frédérique Barthelemy</td><td>Store Manager</td></tr><tr><td>250</td><td>22</td><td>Augustin Chevallier</td><td>Assistant Manager</td></tr><tr><td>251</td><td>22</td><td>Maggie Lagarde-Fernandez</td><td>Cashier</td></tr><tr><td>252</td><td>22</td><td>Bernadette Bouvier</td><td>Stock Clerk</td></tr><tr><td>253</td><td>22</td><td>Laurence Traore</td><td>Sales Associate</td></tr><tr><td>254</td><td>22</td><td>Julien Da Silva</td><td>Sales Associate</td></tr><tr><td>255</td><td>22</td><td>Vincent Mary</td><td>Sales Associate</td></tr><tr><td>256</td><td>22</td><td>Isaac Boulanger de la Laine</td><td>Sales Associate</td></tr><tr><td>257</td><td>22</td><td>Josette Carre</td><td>Sales Associate</td></tr><tr><td>258</td><td>22</td><td>Franck Marie</td><td>Sales Associate</td></tr><tr><td>259</td><td>23</td><td>Luc Rocher du Berger</td><td>Store Manager</td></tr><tr><td>260</td><td>23</td><td>Nicolas Didier</td><td>Assistant Manager</td></tr><tr><td>261</td><td>23</td><td>Hugues Rémy</td><td>Cashier</td></tr><tr><td>262</td><td>23</td><td>Maryse Maillet</td><td>Stock Clerk</td></tr><tr><td>263</td><td>23</td><td>Dominique Pichon</td><td>Sales Associate</td></tr><tr><td>264</td><td>23</td><td>Guillaume Hebert</td><td>Sales Associate</td></tr><tr><td>265</td><td>23</td><td>René Robert</td><td>Sales Associate</td></tr><tr><td>266</td><td>23</td><td>Patrick-Jacques Lemoine</td><td>Sales Associate</td></tr><tr><td>267</td><td>23</td><td>Adrien-Robert Simon</td><td>Sales Associate</td></tr><tr><td>268</td><td>23</td><td>Luc Maillot</td><td>Sales Associate</td></tr><tr><td>269</td><td>23</td><td>Alexandre Paris de la Pages</td><td>Sales Associate</td></tr><tr><td>270</td><td>24</td><td>Suzanne Godard de Grondin</td><td>Store Manager</td></tr><tr><td>271</td><td>24</td><td>Capucine Chartier-Bertin</td><td>Assistant Manager</td></tr><tr><td>272</td><td>24</td><td>Yves de Didier</td><td>Cashier</td></tr><tr><td>273</td><td>24</td><td>Nathalie-Christelle Germain</td><td>Stock Clerk</td></tr><tr><td>274</td><td>24</td><td>Charles Bertin</td><td>Sales Associate</td></tr><tr><td>275</td><td>24</td><td>Alexandria Renaud</td><td>Sales Associate</td></tr><tr><td>276</td><td>24</td><td>Claire Laurent-Benoit</td><td>Sales Associate</td></tr><tr><td>277</td><td>24</td><td>Thibaut Lacombe du Guillaume</td><td>Sales Associate</td></tr><tr><td>278</td><td>24</td><td>Arthur Hamon</td><td>Sales Associate</td></tr><tr><td>279</td><td>24</td><td>Éléonore Gilles de Adam</td><td>Sales Associate</td></tr><tr><td>280</td><td>24</td><td>Robert Guilbert</td><td>Sales Associate</td></tr><tr><td>281</td><td>25</td><td>Bernard Camus</td><td>Store Manager</td></tr><tr><td>282</td><td>25</td><td>Alexandre Bourdon Le Leroy</td><td>Assistant Manager</td></tr><tr><td>283</td><td>25</td><td>Zacharie Lefèvre</td><td>Cashier</td></tr><tr><td>284</td><td>25</td><td>Lucie Dijoux</td><td>Stock Clerk</td></tr><tr><td>285</td><td>25</td><td>Capucine Rousseau</td><td>Sales Associate</td></tr><tr><td>286</td><td>25</td><td>Christine Lopez-Bègue</td><td>Sales Associate</td></tr><tr><td>287</td><td>25</td><td>Maurice Leduc-Picard</td><td>Sales Associate</td></tr><tr><td>288</td><td>25</td><td>Alice Lagarde</td><td>Sales Associate</td></tr><tr><td>289</td><td>25</td><td>Hélène Marchand-Lelièvre</td><td>Sales Associate</td></tr><tr><td>290</td><td>25</td><td>Astrid Jourdan de Parent</td><td>Sales Associate</td></tr><tr><td>291</td><td>25</td><td>Émile Schneider</td><td>Sales Associate</td></tr><tr><td>292</td><td>25</td><td>Benjamin Dupuis</td><td>Sales Associate</td></tr><tr><td>293</td><td>26</td><td>Abigaíl Macarena Báez Solsona</td><td>Store Manager</td></tr><tr><td>294</td><td>26</td><td>Noé Carretero-Cervantes</td><td>Assistant Manager</td></tr><tr><td>295</td><td>26</td><td>Víctor Palomar Terrón</td><td>Cashier</td></tr><tr><td>296</td><td>26</td><td>Emelina del Castillo</td><td>Stock Clerk</td></tr><tr><td>297</td><td>26</td><td>Anunciación Arnau</td><td>Sales Associate</td></tr><tr><td>298</td><td>26</td><td>Danilo Vera Peiró</td><td>Sales Associate</td></tr><tr><td>299</td><td>26</td><td>José Manuel Valera-Villaverde</td><td>Sales Associate</td></tr><tr><td>300</td><td>26</td><td>Lourdes Cabañas</td><td>Sales Associate</td></tr><tr><td>301</td><td>26</td><td>René Castell-Falcó</td><td>Sales Associate</td></tr><tr><td>302</td><td>26</td><td>Dani de Alegria</td><td>Sales Associate</td></tr><tr><td>303</td><td>27</td><td>Gisela Pavón Bou</td><td>Store Manager</td></tr><tr><td>304</td><td>27</td><td>Paula de Armengol</td><td>Assistant Manager</td></tr><tr><td>305</td><td>27</td><td>Federico Blazquez Rivero</td><td>Cashier</td></tr><tr><td>306</td><td>27</td><td>Martina Revilla Pou</td><td>Stock Clerk</td></tr><tr><td>307</td><td>27</td><td>Aurora del Mur</td><td>Sales Associate</td></tr><tr><td>308</td><td>27</td><td>Augusto Montesinos Andrade</td><td>Sales Associate</td></tr><tr><td>309</td><td>27</td><td>Urbano Jover Aznar</td><td>Sales Associate</td></tr><tr><td>310</td><td>27</td><td>Pablo Villalonga</td><td>Sales Associate</td></tr><tr><td>311</td><td>27</td><td>Antonia Paola Molins Ropero</td><td>Sales Associate</td></tr><tr><td>312</td><td>27</td><td>Horacio de Pinedo</td><td>Sales Associate</td></tr><tr><td>313</td><td>27</td><td>Jordán Carballo</td><td>Sales Associate</td></tr><tr><td>314</td><td>27</td><td>Rolando Pagès Gargallo</td><td>Sales Associate</td></tr><tr><td>315</td><td>28</td><td>Febe Gual Manzano</td><td>Store Manager</td></tr><tr><td>316</td><td>28</td><td>Evaristo Rosado</td><td>Assistant Manager</td></tr><tr><td>317</td><td>28</td><td>Pilar del Arjona</td><td>Cashier</td></tr><tr><td>318</td><td>28</td><td>Graciana Gisbert Gámez</td><td>Stock Clerk</td></tr><tr><td>319</td><td>28</td><td>Felipe Amorós Sánchez</td><td>Sales Associate</td></tr><tr><td>320</td><td>28</td><td>Renata Flores Bustos</td><td>Sales Associate</td></tr><tr><td>321</td><td>28</td><td>Dionisio Yáñez</td><td>Sales Associate</td></tr><tr><td>322</td><td>28</td><td>Aitor Lledó-Álamo</td><td>Sales Associate</td></tr><tr><td>323</td><td>28</td><td>Itziar Aguilera Puente</td><td>Sales Associate</td></tr><tr><td>324</td><td>28</td><td>Emiliano Vázquez Moliner</td><td>Sales Associate</td></tr><tr><td>325</td><td>29</td><td>Custodia Torrens Novoa</td><td>Store Manager</td></tr><tr><td>326</td><td>29</td><td>Máximo Chus Rosa Céspedes</td><td>Assistant Manager</td></tr><tr><td>327</td><td>29</td><td>Leire Vega</td><td>Cashier</td></tr><tr><td>328</td><td>29</td><td>Isaac Plaza Valenciano</td><td>Stock Clerk</td></tr><tr><td>329</td><td>29</td><td>Felisa Gaya Díaz</td><td>Sales Associate</td></tr><tr><td>330</td><td>29</td><td>Felicia del Gomila</td><td>Sales Associate</td></tr><tr><td>331</td><td>29</td><td>Armida Bou Ferrández</td><td>Sales Associate</td></tr><tr><td>332</td><td>29</td><td>Kike Blasco Ramis</td><td>Sales Associate</td></tr><tr><td>333</td><td>29</td><td>Rafael Zurita Crespo</td><td>Sales Associate</td></tr><tr><td>334</td><td>29</td><td>Primitivo Nogués Padilla</td><td>Sales Associate</td></tr><tr><td>335</td><td>29</td><td>Eusebia Manuel Mancebo</td><td>Sales Associate</td></tr><tr><td>336</td><td>30</td><td>Judith Amelia Bustos Niño</td><td>Store Manager</td></tr><tr><td>337</td><td>30</td><td>Susana Borrell Sedano</td><td>Assistant Manager</td></tr><tr><td>338</td><td>30</td><td>Poncio Rosselló Balaguer</td><td>Cashier</td></tr><tr><td>339</td><td>30</td><td>Dorotea Román Abril</td><td>Stock Clerk</td></tr><tr><td>340</td><td>30</td><td>Tecla Jódar-Baquero</td><td>Sales Associate</td></tr><tr><td>341</td><td>30</td><td>Artemio Mate Ríos</td><td>Sales Associate</td></tr><tr><td>342</td><td>30</td><td>Vinicio Barceló Marín</td><td>Sales Associate</td></tr><tr><td>343</td><td>30</td><td>Leonor Yuste Hoz</td><td>Sales Associate</td></tr><tr><td>344</td><td>30</td><td>Laura Sánchez</td><td>Sales Associate</td></tr><tr><td>345</td><td>30</td><td>Claudio Lago</td><td>Sales Associate</td></tr><tr><td>346</td><td>30</td><td>Jose Luis Acevedo Fuertes</td><td>Sales Associate</td></tr><tr><td>347</td><td>30</td><td>Artemio Roselló Calvet</td><td>Sales Associate</td></tr><tr><td>348</td><td>31</td><td>Iara-Mariana Teixeira</td><td>Store Manager</td></tr><tr><td>349</td><td>31</td><td>Ricardo Sá</td><td>Assistant Manager</td></tr><tr><td>350</td><td>31</td><td>Joana Rodrigues</td><td>Cashier</td></tr><tr><td>351</td><td>31</td><td>Noah Azevedo</td><td>Stock Clerk</td></tr><tr><td>352</td><td>31</td><td>Vitória Amorim</td><td>Sales Associate</td></tr><tr><td>353</td><td>31</td><td>Érica Reis</td><td>Sales Associate</td></tr><tr><td>354</td><td>31</td><td>Isabela Cruz</td><td>Sales Associate</td></tr><tr><td>355</td><td>31</td><td>Eduarda Assunção</td><td>Sales Associate</td></tr><tr><td>356</td><td>31</td><td>Yasmin Pacheco-Rocha</td><td>Sales Associate</td></tr><tr><td>357</td><td>31</td><td>Jéssica Antunes-Ramos</td><td>Sales Associate</td></tr><tr><td>358</td><td>31</td><td>Vasco Costa</td><td>Sales Associate</td></tr><tr><td>359</td><td>31</td><td>Diego Araújo</td><td>Sales Associate</td></tr><tr><td>360</td><td>31</td><td>Soraia Miranda</td><td>Sales Associate</td></tr><tr><td>361</td><td>32</td><td>Iara Soares</td><td>Store Manager</td></tr><tr><td>362</td><td>32</td><td>Soraia Batista-Maia</td><td>Assistant Manager</td></tr><tr><td>363</td><td>32</td><td>Rui Macedo-Assunção</td><td>Cashier</td></tr><tr><td>364</td><td>32</td><td>Lia Carneiro</td><td>Stock Clerk</td></tr><tr><td>365</td><td>32</td><td>Fabiana Leite-Lima</td><td>Sales Associate</td></tr><tr><td>366</td><td>32</td><td>Jorge Morais</td><td>Sales Associate</td></tr><tr><td>367</td><td>32</td><td>Afonso Cunha</td><td>Sales Associate</td></tr><tr><td>368</td><td>32</td><td>Joaquim Valente</td><td>Sales Associate</td></tr><tr><td>369</td><td>32</td><td>Fernando Vicente</td><td>Sales Associate</td></tr><tr><td>370</td><td>32</td><td>Diogo Morais</td><td>Sales Associate</td></tr><tr><td>371</td><td>33</td><td>Larissa Carvalho</td><td>Store Manager</td></tr><tr><td>372</td><td>33</td><td>Kevin Vaz</td><td>Assistant Manager</td></tr><tr><td>373</td><td>33</td><td>Ismael Barros</td><td>Cashier</td></tr><tr><td>374</td><td>33</td><td>Alexandre Guerreiro</td><td>Stock Clerk</td></tr><tr><td>375</td><td>33</td><td>Daniela do Pires</td><td>Sales Associate</td></tr><tr><td>376</td><td>33</td><td>Kyara Lima</td><td>Sales Associate</td></tr><tr><td>377</td><td>33</td><td>Eduarda Ribeiro</td><td>Sales Associate</td></tr><tr><td>378</td><td>33</td><td>Bruno Santos</td><td>Sales Associate</td></tr><tr><td>379</td><td>33</td><td>Vítor Henriques</td><td>Sales Associate</td></tr><tr><td>380</td><td>33</td><td>Santiago Melo</td><td>Sales Associate</td></tr><tr><td>381</td><td>33</td><td>Nelson Neto</td><td>Sales Associate</td></tr><tr><td>382</td><td>33</td><td>Lourenço Nunes-Azevedo</td><td>Sales Associate</td></tr><tr><td>383</td><td>34</td><td>Lucas Amorim</td><td>Store Manager</td></tr><tr><td>384</td><td>34</td><td>Fernando Martins</td><td>Assistant Manager</td></tr><tr><td>385</td><td>34</td><td>Nádia Anjos</td><td>Cashier</td></tr><tr><td>386</td><td>34</td><td>Rafaela Vieira</td><td>Stock Clerk</td></tr><tr><td>387</td><td>34</td><td>Sofia Rocha-Rocha</td><td>Sales Associate</td></tr><tr><td>388</td><td>34</td><td>Mário Ferreira</td><td>Sales Associate</td></tr><tr><td>389</td><td>34</td><td>Tiago Figueiredo</td><td>Sales Associate</td></tr><tr><td>390</td><td>34</td><td>Luciana Gonçalves</td><td>Sales Associate</td></tr><tr><td>391</td><td>34</td><td>Guilherme Loureiro</td><td>Sales Associate</td></tr><tr><td>392</td><td>34</td><td>Letícia Antunes</td><td>Sales Associate</td></tr><tr><td>393</td><td>34</td><td>Leandro Jesus</td><td>Sales Associate</td></tr><tr><td>394</td><td>34</td><td>Valentim Domingues</td><td>Sales Associate</td></tr><tr><td>395</td><td>35</td><td>Bruna da Almeida</td><td>Store Manager</td></tr><tr><td>396</td><td>35</td><td>Tomé Araújo</td><td>Assistant Manager</td></tr><tr><td>397</td><td>35</td><td>Teresa Freitas</td><td>Cashier</td></tr><tr><td>398</td><td>35</td><td>Adriana-Margarida Figueiredo</td><td>Stock Clerk</td></tr><tr><td>399</td><td>35</td><td>Kévim Figueiredo</td><td>Sales Associate</td></tr><tr><td>400</td><td>35</td><td>Henrique Amaral</td><td>Sales Associate</td></tr><tr><td>401</td><td>35</td><td>Brian Rocha</td><td>Sales Associate</td></tr><tr><td>402</td><td>35</td><td>Matilde Campos</td><td>Sales Associate</td></tr><tr><td>403</td><td>35</td><td>Emanuel Marques</td><td>Sales Associate</td></tr><tr><td>404</td><td>35</td><td>Violeta Gonçalves</td><td>Sales Associate</td></tr></tbody></table></div>"
      ]
     },
     "metadata": {
      "application/vnd.databricks.v1+output": {
       "addedWidgets": {},
       "aggData": [],
       "aggError": "",
       "aggOverflow": false,
       "aggSchema": [],
       "aggSeriesLimitReached": false,
       "aggType": "",
       "arguments": {},
       "columnCustomDisplayInfos": {},
       "data": [
        [
         "1",
         "1",
         "Stephen Johnson",
         "Store Manager"
        ],
        [
         "2",
         "1",
         "Rebecca Myers",
         "Assistant Manager"
        ],
        [
         "3",
         "1",
         "Katherine Buchanan",
         "Cashier"
        ],
        [
         "4",
         "1",
         "Jessica Hicks",
         "Stock Clerk"
        ],
        [
         "5",
         "1",
         "Ryan Gross",
         "Sales Associate"
        ],
        [
         "6",
         "1",
         "Jeffery Carlson",
         "Sales Associate"
        ],
        [
         "7",
         "1",
         "Melissa Wilson",
         "Sales Associate"
        ],
        [
         "8",
         "1",
         "Edward Hicks",
         "Sales Associate"
        ],
        [
         "9",
         "1",
         "Shari Jordan",
         "Sales Associate"
        ],
        [
         "10",
         "1",
         "Mrs. Melissa Caldwell DDS",
         "Sales Associate"
        ],
        [
         "11",
         "1",
         "Regina Nelson",
         "Sales Associate"
        ],
        [
         "12",
         "1",
         "Kevin Dawson",
         "Sales Associate"
        ],
        [
         "13",
         "1",
         "Nicole Murphy",
         "Sales Associate"
        ],
        [
         "14",
         "2",
         "Susan Brown",
         "Store Manager"
        ],
        [
         "15",
         "2",
         "Sean Miller",
         "Assistant Manager"
        ],
        [
         "16",
         "2",
         "Christopher Dominguez",
         "Cashier"
        ],
        [
         "17",
         "2",
         "Lisa Mason",
         "Stock Clerk"
        ],
        [
         "18",
         "2",
         "David Pitts",
         "Sales Associate"
        ],
        [
         "19",
         "2",
         "Lance Schultz",
         "Sales Associate"
        ],
        [
         "20",
         "2",
         "Caroline Hall",
         "Sales Associate"
        ],
        [
         "21",
         "2",
         "Heather Wilson",
         "Sales Associate"
        ],
        [
         "22",
         "2",
         "Allison Young",
         "Sales Associate"
        ],
        [
         "23",
         "2",
         "Kathleen Thomas",
         "Sales Associate"
        ],
        [
         "24",
         "2",
         "Carl Walters",
         "Sales Associate"
        ],
        [
         "25",
         "3",
         "Kevin Douglas",
         "Store Manager"
        ],
        [
         "26",
         "3",
         "Stephanie Larson",
         "Assistant Manager"
        ],
        [
         "27",
         "3",
         "Andrew Thompson",
         "Cashier"
        ],
        [
         "28",
         "3",
         "Erica Davis",
         "Stock Clerk"
        ],
        [
         "29",
         "3",
         "Cynthia Serrano",
         "Sales Associate"
        ],
        [
         "30",
         "3",
         "Brittany Gonzalez",
         "Sales Associate"
        ],
        [
         "31",
         "3",
         "Patrick Simmons",
         "Sales Associate"
        ],
        [
         "32",
         "3",
         "Jennifer Johnson",
         "Sales Associate"
        ],
        [
         "33",
         "3",
         "Lynn Torres",
         "Sales Associate"
        ],
        [
         "34",
         "3",
         "Adam Long",
         "Sales Associate"
        ],
        [
         "35",
         "3",
         "Christopher Willis",
         "Sales Associate"
        ],
        [
         "36",
         "3",
         "Zachary Leonard",
         "Sales Associate"
        ],
        [
         "37",
         "4",
         "Justin Johnson",
         "Store Manager"
        ],
        [
         "38",
         "4",
         "Michael Lewis",
         "Assistant Manager"
        ],
        [
         "39",
         "4",
         "Kevin Chapman",
         "Cashier"
        ],
        [
         "40",
         "4",
         "Christopher Garrett",
         "Stock Clerk"
        ],
        [
         "41",
         "4",
         "Jonathan Cooley",
         "Sales Associate"
        ],
        [
         "42",
         "4",
         "Christine Garner",
         "Sales Associate"
        ],
        [
         "43",
         "4",
         "Joshua Sharp",
         "Sales Associate"
        ],
        [
         "44",
         "4",
         "Laura Whitehead",
         "Sales Associate"
        ],
        [
         "45",
         "4",
         "Jeremy Wolfe",
         "Sales Associate"
        ],
        [
         "46",
         "4",
         "Denise Harmon",
         "Sales Associate"
        ],
        [
         "47",
         "4",
         "Allen Fischer",
         "Sales Associate"
        ],
        [
         "48",
         "4",
         "Robert Price",
         "Sales Associate"
        ],
        [
         "49",
         "4",
         "Victoria Parker",
         "Sales Associate"
        ],
        [
         "50",
         "5",
         "Brandon Allen",
         "Store Manager"
        ],
        [
         "51",
         "5",
         "Matthew Klein",
         "Assistant Manager"
        ],
        [
         "52",
         "5",
         "Richard Miller",
         "Cashier"
        ],
        [
         "53",
         "5",
         "Teresa Wise",
         "Stock Clerk"
        ],
        [
         "54",
         "5",
         "Ronald Shannon",
         "Sales Associate"
        ],
        [
         "55",
         "5",
         "Kayla Hernandez",
         "Sales Associate"
        ],
        [
         "56",
         "5",
         "Ariel Morse",
         "Sales Associate"
        ],
        [
         "57",
         "5",
         "Kevin Stevens",
         "Sales Associate"
        ],
        [
         "58",
         "5",
         "Austin Bonilla",
         "Sales Associate"
        ],
        [
         "59",
         "5",
         "Larry Gutierrez",
         "Sales Associate"
        ],
        [
         "60",
         "5",
         "John Garza",
         "Sales Associate"
        ],
        [
         "61",
         "5",
         "Ruth Smith",
         "Sales Associate"
        ],
        [
         "62",
         "6",
         "张婷",
         "Store Manager"
        ],
        [
         "63",
         "6",
         "唐宇",
         "Assistant Manager"
        ],
        [
         "64",
         "6",
         "谢芳",
         "Cashier"
        ],
        [
         "65",
         "6",
         "王坤",
         "Stock Clerk"
        ],
        [
         "66",
         "6",
         "莫凤英",
         "Sales Associate"
        ],
        [
         "67",
         "6",
         "农健",
         "Sales Associate"
        ],
        [
         "68",
         "6",
         "罗彬",
         "Sales Associate"
        ],
        [
         "69",
         "6",
         "梁欣",
         "Sales Associate"
        ],
        [
         "70",
         "6",
         "蒋坤",
         "Sales Associate"
        ],
        [
         "71",
         "6",
         "李淑英",
         "Sales Associate"
        ],
        [
         "72",
         "6",
         "黄想",
         "Sales Associate"
        ],
        [
         "73",
         "7",
         "李瑜",
         "Store Manager"
        ],
        [
         "74",
         "7",
         "陈帅",
         "Assistant Manager"
        ],
        [
         "75",
         "7",
         "欧玉",
         "Cashier"
        ],
        [
         "76",
         "7",
         "林涛",
         "Stock Clerk"
        ],
        [
         "77",
         "7",
         "孔桂香",
         "Sales Associate"
        ],
        [
         "78",
         "7",
         "杨琳",
         "Sales Associate"
        ],
        [
         "79",
         "7",
         "黄华",
         "Sales Associate"
        ],
        [
         "80",
         "7",
         "何兰英",
         "Sales Associate"
        ],
        [
         "81",
         "7",
         "张杰",
         "Sales Associate"
        ],
        [
         "82",
         "7",
         "应小红",
         "Sales Associate"
        ],
        [
         "83",
         "7",
         "林淑英",
         "Sales Associate"
        ],
        [
         "84",
         "7",
         "唐旭",
         "Sales Associate"
        ],
        [
         "85",
         "7",
         "刘宁",
         "Sales Associate"
        ],
        [
         "86",
         "8",
         "邱桂珍",
         "Store Manager"
        ],
        [
         "87",
         "8",
         "夏红霞",
         "Assistant Manager"
        ],
        [
         "88",
         "8",
         "胡秀云",
         "Cashier"
        ],
        [
         "89",
         "8",
         "刘建",
         "Stock Clerk"
        ],
        [
         "90",
         "8",
         "胡秀云",
         "Sales Associate"
        ],
        [
         "91",
         "8",
         "周秀兰",
         "Sales Associate"
        ],
        [
         "92",
         "8",
         "汤建华",
         "Sales Associate"
        ],
        [
         "93",
         "8",
         "夏艳",
         "Sales Associate"
        ],
        [
         "94",
         "8",
         "杨凤英",
         "Sales Associate"
        ],
        [
         "95",
         "8",
         "李建国",
         "Sales Associate"
        ],
        [
         "96",
         "8",
         "李玉兰",
         "Sales Associate"
        ],
        [
         "97",
         "8",
         "郑琳",
         "Sales Associate"
        ],
        [
         "98",
         "8",
         "郭海燕",
         "Sales Associate"
        ],
        [
         "99",
         "9",
         "王晨",
         "Store Manager"
        ],
        [
         "100",
         "9",
         "石春梅",
         "Assistant Manager"
        ],
        [
         "101",
         "9",
         "李帅",
         "Cashier"
        ],
        [
         "102",
         "9",
         "史荣",
         "Stock Clerk"
        ],
        [
         "103",
         "9",
         "陈淑英",
         "Sales Associate"
        ],
        [
         "104",
         "9",
         "刘宁",
         "Sales Associate"
        ],
        [
         "105",
         "9",
         "许冬梅",
         "Sales Associate"
        ],
        [
         "106",
         "9",
         "胡婷",
         "Sales Associate"
        ],
        [
         "107",
         "9",
         "易玉",
         "Sales Associate"
        ],
        [
         "108",
         "9",
         "林玉",
         "Sales Associate"
        ],
        [
         "109",
         "9",
         "詹淑华",
         "Sales Associate"
        ],
        [
         "110",
         "9",
         "岳金凤",
         "Sales Associate"
        ],
        [
         "111",
         "10",
         "苏萍",
         "Store Manager"
        ],
        [
         "112",
         "10",
         "吴建平",
         "Assistant Manager"
        ],
        [
         "113",
         "10",
         "余建华",
         "Cashier"
        ],
        [
         "114",
         "10",
         "冷成",
         "Stock Clerk"
        ],
        [
         "115",
         "10",
         "梁秀云",
         "Sales Associate"
        ],
        [
         "116",
         "10",
         "李玲",
         "Sales Associate"
        ],
        [
         "117",
         "10",
         "王柳",
         "Sales Associate"
        ],
        [
         "118",
         "10",
         "贾淑英",
         "Sales Associate"
        ],
        [
         "119",
         "10",
         "查帅",
         "Sales Associate"
        ],
        [
         "120",
         "10",
         "刘宁",
         "Sales Associate"
        ],
        [
         "121",
         "10",
         "刘阳",
         "Sales Associate"
        ],
        [
         "122",
         "10",
         "王建平",
         "Sales Associate"
        ],
        [
         "123",
         "10",
         "童淑英",
         "Sales Associate"
        ],
        [
         "124",
         "11",
         "Hansjoachim Nette-Bolnbach",
         "Store Manager"
        ],
        [
         "125",
         "11",
         "Drago Hornig",
         "Assistant Manager"
        ],
        [
         "126",
         "11",
         "Janusz Schmiedecke B.Sc.",
         "Cashier"
        ],
        [
         "127",
         "11",
         "Dr. Gilbert Trommler B.A.",
         "Stock Clerk"
        ],
        [
         "128",
         "11",
         "Desiree Warmer-Wähner",
         "Sales Associate"
        ],
        [
         "129",
         "11",
         "Reingard Jacobi Jäckel",
         "Sales Associate"
        ],
        [
         "130",
         "11",
         "Univ.Prof. Ditmar Scheuermann B.Eng.",
         "Sales Associate"
        ],
        [
         "131",
         "11",
         "Frieda Geisler",
         "Sales Associate"
        ],
        [
         "132",
         "11",
         "Herr Hellmut Kraus",
         "Sales Associate"
        ],
        [
         "133",
         "11",
         "Hannes Biggen",
         "Sales Associate"
        ],
        [
         "134",
         "11",
         "Meinhard Linke",
         "Sales Associate"
        ],
        [
         "135",
         "11",
         "Isabelle Hauffer",
         "Sales Associate"
        ],
        [
         "136",
         "12",
         "Sibel Siering-Ullmann",
         "Store Manager"
        ],
        [
         "137",
         "12",
         "Frau Annelise Blümel",
         "Assistant Manager"
        ],
        [
         "138",
         "12",
         "Dr. Tim Henschel",
         "Cashier"
        ],
        [
         "139",
         "12",
         "Gerta Blümel",
         "Stock Clerk"
        ],
        [
         "140",
         "12",
         "Dr. Diane Oestrovsky",
         "Sales Associate"
        ],
        [
         "141",
         "12",
         "Wanda Stumpf",
         "Sales Associate"
        ],
        [
         "142",
         "12",
         "Dagmar Dehmel-Kusch",
         "Sales Associate"
        ],
        [
         "143",
         "12",
         "Harold Preiß",
         "Sales Associate"
        ],
        [
         "144",
         "12",
         "Heike Römer",
         "Sales Associate"
        ],
        [
         "145",
         "12",
         "Elisa Junck B.Sc.",
         "Sales Associate"
        ],
        [
         "146",
         "12",
         "Dr. Anita Seifert MBA.",
         "Sales Associate"
        ],
        [
         "147",
         "12",
         "Pero Birnbaum B.A.",
         "Sales Associate"
        ],
        [
         "148",
         "12",
         "Ellen Etzler",
         "Sales Associate"
        ],
        [
         "149",
         "13",
         "Claas Kruschwitz-Wilms",
         "Store Manager"
        ],
        [
         "150",
         "13",
         "Selma Jessel",
         "Assistant Manager"
        ],
        [
         "151",
         "13",
         "Dr. Ekrem Trub",
         "Cashier"
        ],
        [
         "152",
         "13",
         "Denny Häring",
         "Stock Clerk"
        ],
        [
         "153",
         "13",
         "Valeri Gute",
         "Sales Associate"
        ],
        [
         "154",
         "13",
         "Gunnar Kambs",
         "Sales Associate"
        ],
        [
         "155",
         "13",
         "Stjepan Adler B.Eng.",
         "Sales Associate"
        ],
        [
         "156",
         "13",
         "Univ.Prof. Reinald Becker MBA.",
         "Sales Associate"
        ],
        [
         "157",
         "13",
         "Inka Etzold B.A.",
         "Sales Associate"
        ],
        [
         "158",
         "13",
         "Gülten Sauer B.Eng.",
         "Sales Associate"
        ],
        [
         "159",
         "13",
         "Rosina Albers",
         "Sales Associate"
        ],
        [
         "160",
         "13",
         "Kathleen Kobelt B.A.",
         "Sales Associate"
        ],
        [
         "161",
         "14",
         "Jaroslaw Gute-Schäfer",
         "Store Manager"
        ],
        [
         "162",
         "14",
         "Dr. Janus Hellwig MBA.",
         "Assistant Manager"
        ],
        [
         "163",
         "14",
         "Hanne Zimmer-Blümel",
         "Cashier"
        ],
        [
         "164",
         "14",
         "Ann-Kathrin Lindner-Preiß",
         "Stock Clerk"
        ],
        [
         "165",
         "14",
         "Dipl.-Ing. Andree Lindau B.A.",
         "Sales Associate"
        ],
        [
         "166",
         "14",
         "Tatjana Rudolph",
         "Sales Associate"
        ],
        [
         "167",
         "14",
         "Jenny Ritter",
         "Sales Associate"
        ],
        [
         "168",
         "14",
         "Maya Mangold B.Sc.",
         "Sales Associate"
        ],
        [
         "169",
         "14",
         "Bärbel Reising B.A.",
         "Sales Associate"
        ],
        [
         "170",
         "14",
         "Ing. Eckehard Stahr",
         "Sales Associate"
        ],
        [
         "171",
         "14",
         "Prof. Tilo Zirme B.A.",
         "Sales Associate"
        ],
        [
         "172",
         "15",
         "Hubertine Sager-Hamann",
         "Store Manager"
        ],
        [
         "173",
         "15",
         "Prof. Kata Lübs B.Sc.",
         "Assistant Manager"
        ],
        [
         "174",
         "15",
         "Vinko Weinhage",
         "Cashier"
        ],
        [
         "175",
         "15",
         "Univ.Prof. Samira Hamann B.Eng.",
         "Stock Clerk"
        ],
        [
         "176",
         "15",
         "Baptist Girschner",
         "Sales Associate"
        ],
        [
         "177",
         "15",
         "Aloisia Schlosser B.A.",
         "Sales Associate"
        ],
        [
         "178",
         "15",
         "Univ.Prof. Hans-Theo Möchlichen",
         "Sales Associate"
        ],
        [
         "179",
         "15",
         "Albin Henck MBA.",
         "Sales Associate"
        ],
        [
         "180",
         "15",
         "Dr. Friedrich-Wilhelm Linke MBA.",
         "Sales Associate"
        ],
        [
         "181",
         "15",
         "Rosl Budig",
         "Sales Associate"
        ],
        [
         "182",
         "15",
         "Miguel Junk",
         "Sales Associate"
        ],
        [
         "183",
         "15",
         "Jonas Rosemann",
         "Sales Associate"
        ],
        [
         "184",
         "15",
         "Helmut Paffrath",
         "Sales Associate"
        ],
        [
         "185",
         "16",
         "Jeff Wiggins",
         "Store Manager"
        ],
        [
         "186",
         "16",
         "Nancy Butler",
         "Assistant Manager"
        ],
        [
         "187",
         "16",
         "Kevin Fields",
         "Cashier"
        ],
        [
         "188",
         "16",
         "Jared Daniels",
         "Stock Clerk"
        ],
        [
         "189",
         "16",
         "Angela Chapman",
         "Sales Associate"
        ],
        [
         "190",
         "16",
         "Annette Morgan",
         "Sales Associate"
        ],
        [
         "191",
         "16",
         "Christina Mccarthy",
         "Sales Associate"
        ],
        [
         "192",
         "16",
         "Kristina Mitchell",
         "Sales Associate"
        ],
        [
         "193",
         "16",
         "Sylvia Austin",
         "Sales Associate"
        ],
        [
         "194",
         "16",
         "Brent Oneill",
         "Sales Associate"
        ],
        [
         "195",
         "17",
         "Robert Oliver",
         "Store Manager"
        ],
        [
         "196",
         "17",
         "Joshua Hansen",
         "Assistant Manager"
        ],
        [
         "197",
         "17",
         "Richard Parks",
         "Cashier"
        ],
        [
         "198",
         "17",
         "Kenneth Dunn",
         "Stock Clerk"
        ],
        [
         "199",
         "17",
         "Jonathan Ryan",
         "Sales Associate"
        ],
        [
         "200",
         "17",
         "Mary Lee",
         "Sales Associate"
        ],
        [
         "201",
         "17",
         "Adam Lopez",
         "Sales Associate"
        ],
        [
         "202",
         "17",
         "Laura Bradley",
         "Sales Associate"
        ],
        [
         "203",
         "17",
         "Laura Baldwin",
         "Sales Associate"
        ],
        [
         "204",
         "17",
         "Karla Rasmussen",
         "Sales Associate"
        ],
        [
         "205",
         "17",
         "Michael Valenzuela",
         "Sales Associate"
        ],
        [
         "206",
         "17",
         "Paul Kemp",
         "Sales Associate"
        ],
        [
         "207",
         "18",
         "Cindy Anderson",
         "Store Manager"
        ],
        [
         "208",
         "18",
         "John Foley",
         "Assistant Manager"
        ],
        [
         "209",
         "18",
         "Anthony Sanders",
         "Cashier"
        ],
        [
         "210",
         "18",
         "Keith Small",
         "Stock Clerk"
        ],
        [
         "211",
         "18",
         "Lisa Jimenez",
         "Sales Associate"
        ],
        [
         "212",
         "18",
         "Allison Taylor",
         "Sales Associate"
        ],
        [
         "213",
         "18",
         "Jonathan Hill",
         "Sales Associate"
        ],
        [
         "214",
         "18",
         "Christina Cisneros",
         "Sales Associate"
        ],
        [
         "215",
         "18",
         "Sarah Moreno",
         "Sales Associate"
        ],
        [
         "216",
         "18",
         "Jake Moore",
         "Sales Associate"
        ],
        [
         "217",
         "19",
         "Wesley Hardin",
         "Store Manager"
        ],
        [
         "218",
         "19",
         "John Ray",
         "Assistant Manager"
        ],
        [
         "219",
         "19",
         "Kyle Black",
         "Cashier"
        ],
        [
         "220",
         "19",
         "Kelly Day",
         "Stock Clerk"
        ],
        [
         "221",
         "19",
         "Brenda Williams",
         "Sales Associate"
        ],
        [
         "222",
         "19",
         "Michael Gardner",
         "Sales Associate"
        ],
        [
         "223",
         "19",
         "Bob Hoffman",
         "Sales Associate"
        ],
        [
         "224",
         "19",
         "Nicole Rice",
         "Sales Associate"
        ],
        [
         "225",
         "19",
         "Maria Hunter",
         "Sales Associate"
        ],
        [
         "226",
         "19",
         "David Hartman",
         "Sales Associate"
        ],
        [
         "227",
         "19",
         "Cheyenne Mann",
         "Sales Associate"
        ],
        [
         "228",
         "19",
         "Monica Moran",
         "Sales Associate"
        ],
        [
         "229",
         "20",
         "John Greene",
         "Store Manager"
        ],
        [
         "230",
         "20",
         "Carol Cox",
         "Assistant Manager"
        ],
        [
         "231",
         "20",
         "John Bailey",
         "Cashier"
        ],
        [
         "232",
         "20",
         "Donald Griffin",
         "Stock Clerk"
        ],
        [
         "233",
         "20",
         "Michael Clayton",
         "Sales Associate"
        ],
        [
         "234",
         "20",
         "Austin Baker",
         "Sales Associate"
        ],
        [
         "235",
         "20",
         "Alexander Baker MD",
         "Sales Associate"
        ],
        [
         "236",
         "20",
         "Briana Moss",
         "Sales Associate"
        ],
        [
         "237",
         "20",
         "Sergio Hoover",
         "Sales Associate"
        ],
        [
         "238",
         "20",
         "Angela Turner",
         "Sales Associate"
        ],
        [
         "239",
         "21",
         "Alexandria Ribeiro",
         "Store Manager"
        ],
        [
         "240",
         "21",
         "Lucy Lebon de Grenier",
         "Assistant Manager"
        ],
        [
         "241",
         "21",
         "Henriette Pierre",
         "Cashier"
        ],
        [
         "242",
         "21",
         "Patrick Bonnin de Rodrigues",
         "Stock Clerk"
        ],
        [
         "243",
         "21",
         "David Sauvage",
         "Sales Associate"
        ],
        [
         "244",
         "21",
         "Philippe Ferrand-Nguyen",
         "Sales Associate"
        ],
        [
         "245",
         "21",
         "Virginie Sanchez",
         "Sales Associate"
        ],
        [
         "246",
         "21",
         "Robert Noël",
         "Sales Associate"
        ],
        [
         "247",
         "21",
         "Matthieu Normand",
         "Sales Associate"
        ],
        [
         "248",
         "21",
         "Bernard Bertrand",
         "Sales Associate"
        ],
        [
         "249",
         "22",
         "Frédérique Barthelemy",
         "Store Manager"
        ],
        [
         "250",
         "22",
         "Augustin Chevallier",
         "Assistant Manager"
        ],
        [
         "251",
         "22",
         "Maggie Lagarde-Fernandez",
         "Cashier"
        ],
        [
         "252",
         "22",
         "Bernadette Bouvier",
         "Stock Clerk"
        ],
        [
         "253",
         "22",
         "Laurence Traore",
         "Sales Associate"
        ],
        [
         "254",
         "22",
         "Julien Da Silva",
         "Sales Associate"
        ],
        [
         "255",
         "22",
         "Vincent Mary",
         "Sales Associate"
        ],
        [
         "256",
         "22",
         "Isaac Boulanger de la Laine",
         "Sales Associate"
        ],
        [
         "257",
         "22",
         "Josette Carre",
         "Sales Associate"
        ],
        [
         "258",
         "22",
         "Franck Marie",
         "Sales Associate"
        ],
        [
         "259",
         "23",
         "Luc Rocher du Berger",
         "Store Manager"
        ],
        [
         "260",
         "23",
         "Nicolas Didier",
         "Assistant Manager"
        ],
        [
         "261",
         "23",
         "Hugues Rémy",
         "Cashier"
        ],
        [
         "262",
         "23",
         "Maryse Maillet",
         "Stock Clerk"
        ],
        [
         "263",
         "23",
         "Dominique Pichon",
         "Sales Associate"
        ],
        [
         "264",
         "23",
         "Guillaume Hebert",
         "Sales Associate"
        ],
        [
         "265",
         "23",
         "René Robert",
         "Sales Associate"
        ],
        [
         "266",
         "23",
         "Patrick-Jacques Lemoine",
         "Sales Associate"
        ],
        [
         "267",
         "23",
         "Adrien-Robert Simon",
         "Sales Associate"
        ],
        [
         "268",
         "23",
         "Luc Maillot",
         "Sales Associate"
        ],
        [
         "269",
         "23",
         "Alexandre Paris de la Pages",
         "Sales Associate"
        ],
        [
         "270",
         "24",
         "Suzanne Godard de Grondin",
         "Store Manager"
        ],
        [
         "271",
         "24",
         "Capucine Chartier-Bertin",
         "Assistant Manager"
        ],
        [
         "272",
         "24",
         "Yves de Didier",
         "Cashier"
        ],
        [
         "273",
         "24",
         "Nathalie-Christelle Germain",
         "Stock Clerk"
        ],
        [
         "274",
         "24",
         "Charles Bertin",
         "Sales Associate"
        ],
        [
         "275",
         "24",
         "Alexandria Renaud",
         "Sales Associate"
        ],
        [
         "276",
         "24",
         "Claire Laurent-Benoit",
         "Sales Associate"
        ],
        [
         "277",
         "24",
         "Thibaut Lacombe du Guillaume",
         "Sales Associate"
        ],
        [
         "278",
         "24",
         "Arthur Hamon",
         "Sales Associate"
        ],
        [
         "279",
         "24",
         "Éléonore Gilles de Adam",
         "Sales Associate"
        ],
        [
         "280",
         "24",
         "Robert Guilbert",
         "Sales Associate"
        ],
        [
         "281",
         "25",
         "Bernard Camus",
         "Store Manager"
        ],
        [
         "282",
         "25",
         "Alexandre Bourdon Le Leroy",
         "Assistant Manager"
        ],
        [
         "283",
         "25",
         "Zacharie Lefèvre",
         "Cashier"
        ],
        [
         "284",
         "25",
         "Lucie Dijoux",
         "Stock Clerk"
        ],
        [
         "285",
         "25",
         "Capucine Rousseau",
         "Sales Associate"
        ],
        [
         "286",
         "25",
         "Christine Lopez-Bègue",
         "Sales Associate"
        ],
        [
         "287",
         "25",
         "Maurice Leduc-Picard",
         "Sales Associate"
        ],
        [
         "288",
         "25",
         "Alice Lagarde",
         "Sales Associate"
        ],
        [
         "289",
         "25",
         "Hélène Marchand-Lelièvre",
         "Sales Associate"
        ],
        [
         "290",
         "25",
         "Astrid Jourdan de Parent",
         "Sales Associate"
        ],
        [
         "291",
         "25",
         "Émile Schneider",
         "Sales Associate"
        ],
        [
         "292",
         "25",
         "Benjamin Dupuis",
         "Sales Associate"
        ],
        [
         "293",
         "26",
         "Abigaíl Macarena Báez Solsona",
         "Store Manager"
        ],
        [
         "294",
         "26",
         "Noé Carretero-Cervantes",
         "Assistant Manager"
        ],
        [
         "295",
         "26",
         "Víctor Palomar Terrón",
         "Cashier"
        ],
        [
         "296",
         "26",
         "Emelina del Castillo",
         "Stock Clerk"
        ],
        [
         "297",
         "26",
         "Anunciación Arnau",
         "Sales Associate"
        ],
        [
         "298",
         "26",
         "Danilo Vera Peiró",
         "Sales Associate"
        ],
        [
         "299",
         "26",
         "José Manuel Valera-Villaverde",
         "Sales Associate"
        ],
        [
         "300",
         "26",
         "Lourdes Cabañas",
         "Sales Associate"
        ],
        [
         "301",
         "26",
         "René Castell-Falcó",
         "Sales Associate"
        ],
        [
         "302",
         "26",
         "Dani de Alegria",
         "Sales Associate"
        ],
        [
         "303",
         "27",
         "Gisela Pavón Bou",
         "Store Manager"
        ],
        [
         "304",
         "27",
         "Paula de Armengol",
         "Assistant Manager"
        ],
        [
         "305",
         "27",
         "Federico Blazquez Rivero",
         "Cashier"
        ],
        [
         "306",
         "27",
         "Martina Revilla Pou",
         "Stock Clerk"
        ],
        [
         "307",
         "27",
         "Aurora del Mur",
         "Sales Associate"
        ],
        [
         "308",
         "27",
         "Augusto Montesinos Andrade",
         "Sales Associate"
        ],
        [
         "309",
         "27",
         "Urbano Jover Aznar",
         "Sales Associate"
        ],
        [
         "310",
         "27",
         "Pablo Villalonga",
         "Sales Associate"
        ],
        [
         "311",
         "27",
         "Antonia Paola Molins Ropero",
         "Sales Associate"
        ],
        [
         "312",
         "27",
         "Horacio de Pinedo",
         "Sales Associate"
        ],
        [
         "313",
         "27",
         "Jordán Carballo",
         "Sales Associate"
        ],
        [
         "314",
         "27",
         "Rolando Pagès Gargallo",
         "Sales Associate"
        ],
        [
         "315",
         "28",
         "Febe Gual Manzano",
         "Store Manager"
        ],
        [
         "316",
         "28",
         "Evaristo Rosado",
         "Assistant Manager"
        ],
        [
         "317",
         "28",
         "Pilar del Arjona",
         "Cashier"
        ],
        [
         "318",
         "28",
         "Graciana Gisbert Gámez",
         "Stock Clerk"
        ],
        [
         "319",
         "28",
         "Felipe Amorós Sánchez",
         "Sales Associate"
        ],
        [
         "320",
         "28",
         "Renata Flores Bustos",
         "Sales Associate"
        ],
        [
         "321",
         "28",
         "Dionisio Yáñez",
         "Sales Associate"
        ],
        [
         "322",
         "28",
         "Aitor Lledó-Álamo",
         "Sales Associate"
        ],
        [
         "323",
         "28",
         "Itziar Aguilera Puente",
         "Sales Associate"
        ],
        [
         "324",
         "28",
         "Emiliano Vázquez Moliner",
         "Sales Associate"
        ],
        [
         "325",
         "29",
         "Custodia Torrens Novoa",
         "Store Manager"
        ],
        [
         "326",
         "29",
         "Máximo Chus Rosa Céspedes",
         "Assistant Manager"
        ],
        [
         "327",
         "29",
         "Leire Vega",
         "Cashier"
        ],
        [
         "328",
         "29",
         "Isaac Plaza Valenciano",
         "Stock Clerk"
        ],
        [
         "329",
         "29",
         "Felisa Gaya Díaz",
         "Sales Associate"
        ],
        [
         "330",
         "29",
         "Felicia del Gomila",
         "Sales Associate"
        ],
        [
         "331",
         "29",
         "Armida Bou Ferrández",
         "Sales Associate"
        ],
        [
         "332",
         "29",
         "Kike Blasco Ramis",
         "Sales Associate"
        ],
        [
         "333",
         "29",
         "Rafael Zurita Crespo",
         "Sales Associate"
        ],
        [
         "334",
         "29",
         "Primitivo Nogués Padilla",
         "Sales Associate"
        ],
        [
         "335",
         "29",
         "Eusebia Manuel Mancebo",
         "Sales Associate"
        ],
        [
         "336",
         "30",
         "Judith Amelia Bustos Niño",
         "Store Manager"
        ],
        [
         "337",
         "30",
         "Susana Borrell Sedano",
         "Assistant Manager"
        ],
        [
         "338",
         "30",
         "Poncio Rosselló Balaguer",
         "Cashier"
        ],
        [
         "339",
         "30",
         "Dorotea Román Abril",
         "Stock Clerk"
        ],
        [
         "340",
         "30",
         "Tecla Jódar-Baquero",
         "Sales Associate"
        ],
        [
         "341",
         "30",
         "Artemio Mate Ríos",
         "Sales Associate"
        ],
        [
         "342",
         "30",
         "Vinicio Barceló Marín",
         "Sales Associate"
        ],
        [
         "343",
         "30",
         "Leonor Yuste Hoz",
         "Sales Associate"
        ],
        [
         "344",
         "30",
         "Laura Sánchez",
         "Sales Associate"
        ],
        [
         "345",
         "30",
         "Claudio Lago",
         "Sales Associate"
        ],
        [
         "346",
         "30",
         "Jose Luis Acevedo Fuertes",
         "Sales Associate"
        ],
        [
         "347",
         "30",
         "Artemio Roselló Calvet",
         "Sales Associate"
        ],
        [
         "348",
         "31",
         "Iara-Mariana Teixeira",
         "Store Manager"
        ],
        [
         "349",
         "31",
         "Ricardo Sá",
         "Assistant Manager"
        ],
        [
         "350",
         "31",
         "Joana Rodrigues",
         "Cashier"
        ],
        [
         "351",
         "31",
         "Noah Azevedo",
         "Stock Clerk"
        ],
        [
         "352",
         "31",
         "Vitória Amorim",
         "Sales Associate"
        ],
        [
         "353",
         "31",
         "Érica Reis",
         "Sales Associate"
        ],
        [
         "354",
         "31",
         "Isabela Cruz",
         "Sales Associate"
        ],
        [
         "355",
         "31",
         "Eduarda Assunção",
         "Sales Associate"
        ],
        [
         "356",
         "31",
         "Yasmin Pacheco-Rocha",
         "Sales Associate"
        ],
        [
         "357",
         "31",
         "Jéssica Antunes-Ramos",
         "Sales Associate"
        ],
        [
         "358",
         "31",
         "Vasco Costa",
         "Sales Associate"
        ],
        [
         "359",
         "31",
         "Diego Araújo",
         "Sales Associate"
        ],
        [
         "360",
         "31",
         "Soraia Miranda",
         "Sales Associate"
        ],
        [
         "361",
         "32",
         "Iara Soares",
         "Store Manager"
        ],
        [
         "362",
         "32",
         "Soraia Batista-Maia",
         "Assistant Manager"
        ],
        [
         "363",
         "32",
         "Rui Macedo-Assunção",
         "Cashier"
        ],
        [
         "364",
         "32",
         "Lia Carneiro",
         "Stock Clerk"
        ],
        [
         "365",
         "32",
         "Fabiana Leite-Lima",
         "Sales Associate"
        ],
        [
         "366",
         "32",
         "Jorge Morais",
         "Sales Associate"
        ],
        [
         "367",
         "32",
         "Afonso Cunha",
         "Sales Associate"
        ],
        [
         "368",
         "32",
         "Joaquim Valente",
         "Sales Associate"
        ],
        [
         "369",
         "32",
         "Fernando Vicente",
         "Sales Associate"
        ],
        [
         "370",
         "32",
         "Diogo Morais",
         "Sales Associate"
        ],
        [
         "371",
         "33",
         "Larissa Carvalho",
         "Store Manager"
        ],
        [
         "372",
         "33",
         "Kevin Vaz",
         "Assistant Manager"
        ],
        [
         "373",
         "33",
         "Ismael Barros",
         "Cashier"
        ],
        [
         "374",
         "33",
         "Alexandre Guerreiro",
         "Stock Clerk"
        ],
        [
         "375",
         "33",
         "Daniela do Pires",
         "Sales Associate"
        ],
        [
         "376",
         "33",
         "Kyara Lima",
         "Sales Associate"
        ],
        [
         "377",
         "33",
         "Eduarda Ribeiro",
         "Sales Associate"
        ],
        [
         "378",
         "33",
         "Bruno Santos",
         "Sales Associate"
        ],
        [
         "379",
         "33",
         "Vítor Henriques",
         "Sales Associate"
        ],
        [
         "380",
         "33",
         "Santiago Melo",
         "Sales Associate"
        ],
        [
         "381",
         "33",
         "Nelson Neto",
         "Sales Associate"
        ],
        [
         "382",
         "33",
         "Lourenço Nunes-Azevedo",
         "Sales Associate"
        ],
        [
         "383",
         "34",
         "Lucas Amorim",
         "Store Manager"
        ],
        [
         "384",
         "34",
         "Fernando Martins",
         "Assistant Manager"
        ],
        [
         "385",
         "34",
         "Nádia Anjos",
         "Cashier"
        ],
        [
         "386",
         "34",
         "Rafaela Vieira",
         "Stock Clerk"
        ],
        [
         "387",
         "34",
         "Sofia Rocha-Rocha",
         "Sales Associate"
        ],
        [
         "388",
         "34",
         "Mário Ferreira",
         "Sales Associate"
        ],
        [
         "389",
         "34",
         "Tiago Figueiredo",
         "Sales Associate"
        ],
        [
         "390",
         "34",
         "Luciana Gonçalves",
         "Sales Associate"
        ],
        [
         "391",
         "34",
         "Guilherme Loureiro",
         "Sales Associate"
        ],
        [
         "392",
         "34",
         "Letícia Antunes",
         "Sales Associate"
        ],
        [
         "393",
         "34",
         "Leandro Jesus",
         "Sales Associate"
        ],
        [
         "394",
         "34",
         "Valentim Domingues",
         "Sales Associate"
        ],
        [
         "395",
         "35",
         "Bruna da Almeida",
         "Store Manager"
        ],
        [
         "396",
         "35",
         "Tomé Araújo",
         "Assistant Manager"
        ],
        [
         "397",
         "35",
         "Teresa Freitas",
         "Cashier"
        ],
        [
         "398",
         "35",
         "Adriana-Margarida Figueiredo",
         "Stock Clerk"
        ],
        [
         "399",
         "35",
         "Kévim Figueiredo",
         "Sales Associate"
        ],
        [
         "400",
         "35",
         "Henrique Amaral",
         "Sales Associate"
        ],
        [
         "401",
         "35",
         "Brian Rocha",
         "Sales Associate"
        ],
        [
         "402",
         "35",
         "Matilde Campos",
         "Sales Associate"
        ],
        [
         "403",
         "35",
         "Emanuel Marques",
         "Sales Associate"
        ],
        [
         "404",
         "35",
         "Violeta Gonçalves",
         "Sales Associate"
        ]
       ],
       "datasetInfos": [],
       "dbfsResultPath": null,
       "isJsonSchema": true,
       "metadata": {},
       "overflow": false,
       "plotOptions": {
        "customPlotOptions": {},
        "displayType": "table",
        "pivotAggregation": null,
        "pivotColumns": null,
        "xColumns": null,
        "yColumns": null
       },
       "removedWidgets": [],
       "schema": [
        {
         "metadata": "{}",
         "name": "Employee ID",
         "type": "\"string\""
        },
        {
         "metadata": "{}",
         "name": "Store ID",
         "type": "\"string\""
        },
        {
         "metadata": "{}",
         "name": "Name",
         "type": "\"string\""
        },
        {
         "metadata": "{}",
         "name": "Position",
         "type": "\"string\""
        }
       ],
       "type": "table"
      }
     },
     "output_type": "display_data"
    }
   ],
   "source": [
    "#File location and type\n",
    "file_location = \"/FileStore/tables/employees-5.csv\"\n",
    "file_type = \"csv\"\n",
    "\n",
    "# CSV options\n",
    "infer_schema = \"false\"\n",
    "first_row_is_header = \"true\"\n",
    "delimiter = \",\"\n",
    "\n",
    "# The applied options are for CSV files. For other file types, these will be ignored.\n",
    "df = spark.read.format(file_type) \\\n",
    "  .option(\"inferSchema\", infer_schema) \\\n",
    "  .option(\"header\", first_row_is_header) \\\n",
    "  .option(\"sep\", delimiter) \\\n",
    "  .load(file_location)\n",
    "\n",
    "display(df)"
   ]
  },
  {
   "cell_type": "code",
   "execution_count": 0,
   "metadata": {
    "application/vnd.databricks.v1+cell": {
     "cellMetadata": {
      "byteLimit": 2048000,
      "rowLimit": 10000
     },
     "inputWidgets": {},
     "nuid": "3f1f04f1-0984-400d-b968-ffa7155d7a15",
     "showTitle": false,
     "tableResultSettingsMap": {},
     "title": ""
    }
   },
   "outputs": [
    {
     "output_type": "stream",
     "name": "stdout",
     "output_type": "stream",
     "text": [
      "['296', '125', '7', '51', '124', '307', '169', '205', '334', '272', '15', '54', '232', '234', '282', '383', '155', '132', '154', '317', '200', '388', '11', '101', '279', '138', '323', '351', '361', '387', '29', '69', '309', '42', '112', '73', '87', '64', '308', '348', '356', '3', '30', '113', '34', '133', '287', '365', '389', '59', '162', '139', '146', '250', '310', '352', '379', '8', '160', '258', '22', '28', '184', '203', '199', '343', '85', '16', '35', '52', '251', '171', '183', '187', '71', '98', '188', '276', '298', '47', '99', '195', '223', '107', '110', '372', '390', '214', '179', '267', '284', '96', '202', '248', '327', '221', '320', '43', '300', '5', '273', '401', '31', '163', '100', '18', '359', '70', '174', '206', '168', '302', '224', '364', '27', '61', '218', '75', '274', '166', '219', '17', '126', '131', '140', '26', '227', '286', '120', '326', '46', '268', '130', '374', '375', '147', '164', '207', '381', '78', '208', '328', '77', '89', '228', '136', '198', '290', '6', '118', '257', '385', '185', '341', '230', '256', '329', '201', '177', '344', '60', '68', '90', '104', '229', '244', '246', '194', '19', '335', '354', '404', '347', '23', '41', '128', '280', '102', '55', '345', '238', '319', '111', '263', '349', '403', '197', '220', '167', '93', '95', '38', '40', '103', '369', '376', '25', '373', '189', '270', '271', '233', '292', '297', '44', '135', '156', '190', '288', '303', '338', '144', '176', '82', '115', '241', '193', '283', '53', '245', '285', '92', '231', '398', '122', '293', '294', '380', '108', '117', '247', '86', '58', '261', '281', '394', '360', '204', '363', '399', '81', '33', '114', '242', '350', '366', '213', '291', '150', '269', '277', '170', '382', '393', '178', '48', '153', '259', '217', '141', '148', '173', '180', '240', '243', '97', '159', '209', '239', '377', '304', '316', '67', '106', '158', '402', '84', '236', '266', '143', '322', '79', '9', '24', '313', '336', '212', '346', '32', '116', '152', '186', '299', '314', '88', '134', '358', '1', '149', '318', '391', '105', '237', '289', '20', '305', '325', '342', '142', '357', '56', '127', '36', '211', '295', '397', '10', '384', '37', '165', '371', '386', '49', '255', '275', '395', '222', '253', '362', '172', '63', '181', '306', '65', '225', '235', '312', '265', '331', '4', '121', '39', '252', '210', '315', '62', '400', '12', '339', '83', '333', '109', '123', '215', '396', '13', '249', '157', '191', '260', '14', '21', '182', '66', '264', '91', '94', '175', '72', '74', '137', '161', '392', '151', '355', '321', '367', '353', '262', '129', '368', '76', '378', '2', '196', '278', '337', '254', '370', '192', '311', '80', '226', '324', '340', '301', '50', '145', '330', '45', '57', '332', '216', '119']\n"
     ]
    }
   ],
   "source": [
    "distinct_values_list = [row[\"Employee ID\"] for row in df.selectExpr(\"`Employee ID`\").distinct().collect()]\n",
    "print(distinct_values_list)\n",
    "\n"
   ]
  },
  {
   "cell_type": "code",
   "execution_count": 0,
   "metadata": {
    "application/vnd.databricks.v1+cell": {
     "cellMetadata": {
      "byteLimit": 2048000,
      "rowLimit": 10000
     },
     "inputWidgets": {},
     "nuid": "a3b4ccb0-1840-4af7-a436-9d5bf95a2ccc",
     "showTitle": false,
     "tableResultSettingsMap": {},
     "title": ""
    }
   },
   "outputs": [],
   "source": [
    "\n",
    "#create a dropdown widget\n",
    "dbutils.widgets.dropdown(name='dropdown_filter',defaultValue='101', choices=distinct_values_list, label=\"Dropdown\")"
   ]
  },
  {
   "cell_type": "code",
   "execution_count": 0,
   "metadata": {
    "application/vnd.databricks.v1+cell": {
     "cellMetadata": {
      "byteLimit": 2048000,
      "rowLimit": 10000
     },
     "inputWidgets": {},
     "nuid": "3b6e611d-c089-4993-beb0-8e1925802248",
     "showTitle": false,
     "tableResultSettingsMap": {},
     "title": ""
    }
   },
   "outputs": [
    {
     "output_type": "display_data",
     "data": {
      "text/html": [
       "<style scoped>\n",
       "  .table-result-container {\n",
       "    max-height: 300px;\n",
       "    overflow: auto;\n",
       "  }\n",
       "  table, th, td {\n",
       "    border: 1px solid black;\n",
       "    border-collapse: collapse;\n",
       "  }\n",
       "  th, td {\n",
       "    padding: 5px;\n",
       "  }\n",
       "  th {\n",
       "    text-align: left;\n",
       "  }\n",
       "</style><div class='table-result-container'><table class='table-result'><thead style='background-color: white'><tr><th>Employee ID</th><th>Store ID</th><th>Name</th><th>Position</th></tr></thead><tbody><tr><td>101</td><td>9</td><td>李帅</td><td>Cashier</td></tr></tbody></table></div>"
      ]
     },
     "metadata": {
      "application/vnd.databricks.v1+output": {
       "addedWidgets": {},
       "aggData": [],
       "aggError": "",
       "aggOverflow": false,
       "aggSchema": [],
       "aggSeriesLimitReached": false,
       "aggType": "",
       "arguments": {},
       "columnCustomDisplayInfos": {},
       "data": [
        [
         "101",
         "9",
         "李帅",
         "Cashier"
        ]
       ],
       "datasetInfos": [],
       "dbfsResultPath": null,
       "isJsonSchema": true,
       "metadata": {},
       "overflow": false,
       "plotOptions": {
        "customPlotOptions": {},
        "displayType": "table",
        "pivotAggregation": null,
        "pivotColumns": null,
        "xColumns": null,
        "yColumns": null
       },
       "removedWidgets": [],
       "schema": [
        {
         "metadata": "{}",
         "name": "Employee ID",
         "type": "\"string\""
        },
        {
         "metadata": "{}",
         "name": "Store ID",
         "type": "\"string\""
        },
        {
         "metadata": "{}",
         "name": "Name",
         "type": "\"string\""
        },
        {
         "metadata": "{}",
         "name": "Position",
         "type": "\"string\""
        }
       ],
       "type": "table"
      }
     },
     "output_type": "display_data"
    }
   ],
   "source": [
    "\n",
    "from pyspark.sql.functions import col\n",
    "display(df.filter(col('Employee ID')==dbutils.widgets.get('dropdown_filter')))"
   ]
  },
  {
   "cell_type": "code",
   "execution_count": 0,
   "metadata": {
    "application/vnd.databricks.v1+cell": {
     "cellMetadata": {
      "byteLimit": 2048000,
      "rowLimit": 10000
     },
     "inputWidgets": {},
     "nuid": "7d60f4e0-e110-46a0-9b32-fd894c01bb76",
     "showTitle": false,
     "tableResultSettingsMap": {},
     "title": ""
    }
   },
   "outputs": [],
   "source": [
    "# code next to this cell will not run by tab \"run all\" as we will successfully exit the notebook\n",
    "dbutils.notebook.exit('Success')\n",
    "     "
   ]
  }
 ],
 "metadata": {
  "application/vnd.databricks.v1+notebook": {
   "computePreferences": null,
   "dashboards": [],
   "environmentMetadata": {
    "base_environment": "",
    "environment_version": "1"
   },
   "inputWidgetPreferences": null,
   "language": "python",
   "notebookMetadata": {
    "pythonIndentUnit": 4
   },
   "notebookName": "dashboard",
   "widgets": {
    "dropdown_filter": {
     "currentValue": "101",
     "nuid": "48681548-10be-4f38-9281-0725970124a7",
     "typedWidgetInfo": {
      "autoCreated": false,
      "defaultValue": "101",
      "label": "Dropdown",
      "name": "dropdown_filter",
      "options": {
       "widgetDisplayType": "Dropdown",
       "choices": [
        "296",
        "125",
        "7",
        "51",
        "124",
        "307",
        "169",
        "205",
        "334",
        "272",
        "15",
        "54",
        "232",
        "234",
        "282",
        "383",
        "155",
        "132",
        "154",
        "317",
        "200",
        "388",
        "11",
        "101",
        "279",
        "138",
        "323",
        "351",
        "361",
        "387",
        "29",
        "69",
        "309",
        "42",
        "112",
        "73",
        "87",
        "64",
        "308",
        "348",
        "356",
        "3",
        "30",
        "113",
        "34",
        "133",
        "287",
        "365",
        "389",
        "59",
        "162",
        "139",
        "146",
        "250",
        "310",
        "352",
        "379",
        "8",
        "160",
        "258",
        "22",
        "28",
        "184",
        "203",
        "199",
        "343",
        "85",
        "16",
        "35",
        "52",
        "251",
        "171",
        "183",
        "187",
        "71",
        "98",
        "188",
        "276",
        "298",
        "47",
        "99",
        "195",
        "223",
        "107",
        "110",
        "372",
        "390",
        "214",
        "179",
        "267",
        "284",
        "96",
        "202",
        "248",
        "327",
        "221",
        "320",
        "43",
        "300",
        "5",
        "273",
        "401",
        "31",
        "163",
        "100",
        "18",
        "359",
        "70",
        "174",
        "206",
        "168",
        "302",
        "224",
        "364",
        "27",
        "61",
        "218",
        "75",
        "274",
        "166",
        "219",
        "17",
        "126",
        "131",
        "140",
        "26",
        "227",
        "286",
        "120",
        "326",
        "46",
        "268",
        "130",
        "374",
        "375",
        "147",
        "164",
        "207",
        "381",
        "78",
        "208",
        "328",
        "77",
        "89",
        "228",
        "136",
        "198",
        "290",
        "6",
        "118",
        "257",
        "385",
        "185",
        "341",
        "230",
        "256",
        "329",
        "201",
        "177",
        "344",
        "60",
        "68",
        "90",
        "104",
        "229",
        "244",
        "246",
        "194",
        "19",
        "335",
        "354",
        "404",
        "347",
        "23",
        "41",
        "128",
        "280",
        "102",
        "55",
        "345",
        "238",
        "319",
        "111",
        "263",
        "349",
        "403",
        "197",
        "220",
        "167",
        "93",
        "95",
        "38",
        "40",
        "103",
        "369",
        "376",
        "25",
        "373",
        "189",
        "270",
        "271",
        "233",
        "292",
        "297",
        "44",
        "135",
        "156",
        "190",
        "288",
        "303",
        "338",
        "144",
        "176",
        "82",
        "115",
        "241",
        "193",
        "283",
        "53",
        "245",
        "285",
        "92",
        "231",
        "398",
        "122",
        "293",
        "294",
        "380",
        "108",
        "117",
        "247",
        "86",
        "58",
        "261",
        "281",
        "394",
        "360",
        "204",
        "363",
        "399",
        "81",
        "33",
        "114",
        "242",
        "350",
        "366",
        "213",
        "291",
        "150",
        "269",
        "277",
        "170",
        "382",
        "393",
        "178",
        "48",
        "153",
        "259",
        "217",
        "141",
        "148",
        "173",
        "180",
        "240",
        "243",
        "97",
        "159",
        "209",
        "239",
        "377",
        "304",
        "316",
        "67",
        "106",
        "158",
        "402",
        "84",
        "236",
        "266",
        "143",
        "322",
        "79",
        "9",
        "24",
        "313",
        "336",
        "212",
        "346",
        "32",
        "116",
        "152",
        "186",
        "299",
        "314",
        "88",
        "134",
        "358",
        "1",
        "149",
        "318",
        "391",
        "105",
        "237",
        "289",
        "20",
        "305",
        "325",
        "342",
        "142",
        "357",
        "56",
        "127",
        "36",
        "211",
        "295",
        "397",
        "10",
        "384",
        "37",
        "165",
        "371",
        "386",
        "49",
        "255",
        "275",
        "395",
        "222",
        "253",
        "362",
        "172",
        "63",
        "181",
        "306",
        "65",
        "225",
        "235",
        "312",
        "265",
        "331",
        "4",
        "121",
        "39",
        "252",
        "210",
        "315",
        "62",
        "400",
        "12",
        "339",
        "83",
        "333",
        "109",
        "123",
        "215",
        "396",
        "13",
        "249",
        "157",
        "191",
        "260",
        "14",
        "21",
        "182",
        "66",
        "264",
        "91",
        "94",
        "175",
        "72",
        "74",
        "137",
        "161",
        "392",
        "151",
        "355",
        "321",
        "367",
        "353",
        "262",
        "129",
        "368",
        "76",
        "378",
        "2",
        "196",
        "278",
        "337",
        "254",
        "370",
        "192",
        "311",
        "80",
        "226",
        "324",
        "340",
        "301",
        "50",
        "145",
        "330",
        "45",
        "57",
        "332",
        "216",
        "119"
       ],
       "fixedDomain": true,
       "multiselect": false
      },
      "parameterDataType": "String"
     },
     "widgetInfo": {
      "widgetType": "dropdown",
      "defaultValue": "101",
      "label": "Dropdown",
      "name": "dropdown_filter",
      "options": {
       "widgetType": "dropdown",
       "autoCreated": false,
       "choices": [
        "296",
        "125",
        "7",
        "51",
        "124",
        "307",
        "169",
        "205",
        "334",
        "272",
        "15",
        "54",
        "232",
        "234",
        "282",
        "383",
        "155",
        "132",
        "154",
        "317",
        "200",
        "388",
        "11",
        "101",
        "279",
        "138",
        "323",
        "351",
        "361",
        "387",
        "29",
        "69",
        "309",
        "42",
        "112",
        "73",
        "87",
        "64",
        "308",
        "348",
        "356",
        "3",
        "30",
        "113",
        "34",
        "133",
        "287",
        "365",
        "389",
        "59",
        "162",
        "139",
        "146",
        "250",
        "310",
        "352",
        "379",
        "8",
        "160",
        "258",
        "22",
        "28",
        "184",
        "203",
        "199",
        "343",
        "85",
        "16",
        "35",
        "52",
        "251",
        "171",
        "183",
        "187",
        "71",
        "98",
        "188",
        "276",
        "298",
        "47",
        "99",
        "195",
        "223",
        "107",
        "110",
        "372",
        "390",
        "214",
        "179",
        "267",
        "284",
        "96",
        "202",
        "248",
        "327",
        "221",
        "320",
        "43",
        "300",
        "5",
        "273",
        "401",
        "31",
        "163",
        "100",
        "18",
        "359",
        "70",
        "174",
        "206",
        "168",
        "302",
        "224",
        "364",
        "27",
        "61",
        "218",
        "75",
        "274",
        "166",
        "219",
        "17",
        "126",
        "131",
        "140",
        "26",
        "227",
        "286",
        "120",
        "326",
        "46",
        "268",
        "130",
        "374",
        "375",
        "147",
        "164",
        "207",
        "381",
        "78",
        "208",
        "328",
        "77",
        "89",
        "228",
        "136",
        "198",
        "290",
        "6",
        "118",
        "257",
        "385",
        "185",
        "341",
        "230",
        "256",
        "329",
        "201",
        "177",
        "344",
        "60",
        "68",
        "90",
        "104",
        "229",
        "244",
        "246",
        "194",
        "19",
        "335",
        "354",
        "404",
        "347",
        "23",
        "41",
        "128",
        "280",
        "102",
        "55",
        "345",
        "238",
        "319",
        "111",
        "263",
        "349",
        "403",
        "197",
        "220",
        "167",
        "93",
        "95",
        "38",
        "40",
        "103",
        "369",
        "376",
        "25",
        "373",
        "189",
        "270",
        "271",
        "233",
        "292",
        "297",
        "44",
        "135",
        "156",
        "190",
        "288",
        "303",
        "338",
        "144",
        "176",
        "82",
        "115",
        "241",
        "193",
        "283",
        "53",
        "245",
        "285",
        "92",
        "231",
        "398",
        "122",
        "293",
        "294",
        "380",
        "108",
        "117",
        "247",
        "86",
        "58",
        "261",
        "281",
        "394",
        "360",
        "204",
        "363",
        "399",
        "81",
        "33",
        "114",
        "242",
        "350",
        "366",
        "213",
        "291",
        "150",
        "269",
        "277",
        "170",
        "382",
        "393",
        "178",
        "48",
        "153",
        "259",
        "217",
        "141",
        "148",
        "173",
        "180",
        "240",
        "243",
        "97",
        "159",
        "209",
        "239",
        "377",
        "304",
        "316",
        "67",
        "106",
        "158",
        "402",
        "84",
        "236",
        "266",
        "143",
        "322",
        "79",
        "9",
        "24",
        "313",
        "336",
        "212",
        "346",
        "32",
        "116",
        "152",
        "186",
        "299",
        "314",
        "88",
        "134",
        "358",
        "1",
        "149",
        "318",
        "391",
        "105",
        "237",
        "289",
        "20",
        "305",
        "325",
        "342",
        "142",
        "357",
        "56",
        "127",
        "36",
        "211",
        "295",
        "397",
        "10",
        "384",
        "37",
        "165",
        "371",
        "386",
        "49",
        "255",
        "275",
        "395",
        "222",
        "253",
        "362",
        "172",
        "63",
        "181",
        "306",
        "65",
        "225",
        "235",
        "312",
        "265",
        "331",
        "4",
        "121",
        "39",
        "252",
        "210",
        "315",
        "62",
        "400",
        "12",
        "339",
        "83",
        "333",
        "109",
        "123",
        "215",
        "396",
        "13",
        "249",
        "157",
        "191",
        "260",
        "14",
        "21",
        "182",
        "66",
        "264",
        "91",
        "94",
        "175",
        "72",
        "74",
        "137",
        "161",
        "392",
        "151",
        "355",
        "321",
        "367",
        "353",
        "262",
        "129",
        "368",
        "76",
        "378",
        "2",
        "196",
        "278",
        "337",
        "254",
        "370",
        "192",
        "311",
        "80",
        "226",
        "324",
        "340",
        "301",
        "50",
        "145",
        "330",
        "45",
        "57",
        "332",
        "216",
        "119"
       ]
      }
     }
    }
   }
  }
 },
 "nbformat": 4,
 "nbformat_minor": 0
}